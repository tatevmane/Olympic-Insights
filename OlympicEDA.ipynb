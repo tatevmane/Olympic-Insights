{
 "cells": [
  {
   "cell_type": "markdown",
   "id": "2028b959-d9e3-4996-84b7-229dce918c1a",
   "metadata": {},
   "source": [
    "# OLYMPICS DATA EXPLORATION"
   ]
  },
  {
   "cell_type": "markdown",
   "id": "50a54606-f7a8-4fc1-956b-7f9f72f467dc",
   "metadata": {},
   "source": [
    "## About the data\n",
    "We have data on olympics participants, teams, events, and medals spanning 120 years (from 1896 to 2016). The games are labelled by season, summer or winter. Winter olympics were first introduced in 1924. Prior to that, we only have data on summer olympics. \n",
    "Due to the nature of the task, I had to make certain assumptions about my client and the insights that would be of interest to them. \n",
    "For the purpose of this assignment, my client is a sports apparel company, interested in sponsoring athletes to showcase their products and expand potential customer base for the brand. I decided it would be beneficial to examine historical olympics data to potentially identify any emerging trends in the data that can point to specific sports, and NOCs that have recently emerged and are gaining popularity in their home country. The medal count and type as well as specific athletes and teams will be of particular interest for this task. closely tracking the olympics for any emerging trends like sports or events that have increased popularity in certain countries"
   ]
  },
  {
   "cell_type": "code",
   "execution_count": 1,
   "id": "f7a72406-3d99-4172-ab47-0eeeba7b22b7",
   "metadata": {},
   "outputs": [],
   "source": [
    "# importing libraries\n",
    "import pandas as pd\n",
    "import numpy as np\n",
    "import scipy\n",
    "import plotly\n",
    "import matplotlib.pyplot as plt\n",
    "import seaborn as sns"
   ]
  },
  {
   "cell_type": "code",
   "execution_count": 2,
   "id": "97c57af8-f7f3-4612-922e-fa8be8db47b6",
   "metadata": {},
   "outputs": [
    {
     "data": {
      "text/html": [
       "<div>\n",
       "<style scoped>\n",
       "    .dataframe tbody tr th:only-of-type {\n",
       "        vertical-align: middle;\n",
       "    }\n",
       "\n",
       "    .dataframe tbody tr th {\n",
       "        vertical-align: top;\n",
       "    }\n",
       "\n",
       "    .dataframe thead th {\n",
       "        text-align: right;\n",
       "    }\n",
       "</style>\n",
       "<table border=\"1\" class=\"dataframe\">\n",
       "  <thead>\n",
       "    <tr style=\"text-align: right;\">\n",
       "      <th></th>\n",
       "      <th>ID</th>\n",
       "      <th>Name</th>\n",
       "      <th>Sex</th>\n",
       "      <th>Age</th>\n",
       "      <th>Height</th>\n",
       "      <th>Weight</th>\n",
       "      <th>Team</th>\n",
       "      <th>NOC</th>\n",
       "      <th>Games</th>\n",
       "      <th>Year</th>\n",
       "      <th>Season</th>\n",
       "      <th>City</th>\n",
       "      <th>Sport</th>\n",
       "      <th>Event</th>\n",
       "      <th>Medal</th>\n",
       "    </tr>\n",
       "  </thead>\n",
       "  <tbody>\n",
       "    <tr>\n",
       "      <th>0</th>\n",
       "      <td>1</td>\n",
       "      <td>A Dijiang</td>\n",
       "      <td>M</td>\n",
       "      <td>24.0</td>\n",
       "      <td>180.0</td>\n",
       "      <td>80.0</td>\n",
       "      <td>China</td>\n",
       "      <td>CHN</td>\n",
       "      <td>1992 Summer</td>\n",
       "      <td>1992</td>\n",
       "      <td>Summer</td>\n",
       "      <td>Barcelona</td>\n",
       "      <td>Basketball</td>\n",
       "      <td>Basketball Men's Basketball</td>\n",
       "      <td>NaN</td>\n",
       "    </tr>\n",
       "    <tr>\n",
       "      <th>1</th>\n",
       "      <td>2</td>\n",
       "      <td>A Lamusi</td>\n",
       "      <td>M</td>\n",
       "      <td>23.0</td>\n",
       "      <td>170.0</td>\n",
       "      <td>60.0</td>\n",
       "      <td>China</td>\n",
       "      <td>CHN</td>\n",
       "      <td>2012 Summer</td>\n",
       "      <td>2012</td>\n",
       "      <td>Summer</td>\n",
       "      <td>London</td>\n",
       "      <td>Judo</td>\n",
       "      <td>Judo Men's Extra-Lightweight</td>\n",
       "      <td>NaN</td>\n",
       "    </tr>\n",
       "    <tr>\n",
       "      <th>2</th>\n",
       "      <td>3</td>\n",
       "      <td>Gunnar Nielsen Aaby</td>\n",
       "      <td>M</td>\n",
       "      <td>24.0</td>\n",
       "      <td>NaN</td>\n",
       "      <td>NaN</td>\n",
       "      <td>Denmark</td>\n",
       "      <td>DEN</td>\n",
       "      <td>1920 Summer</td>\n",
       "      <td>1920</td>\n",
       "      <td>Summer</td>\n",
       "      <td>Antwerpen</td>\n",
       "      <td>Football</td>\n",
       "      <td>Football Men's Football</td>\n",
       "      <td>NaN</td>\n",
       "    </tr>\n",
       "    <tr>\n",
       "      <th>3</th>\n",
       "      <td>4</td>\n",
       "      <td>Edgar Lindenau Aabye</td>\n",
       "      <td>M</td>\n",
       "      <td>34.0</td>\n",
       "      <td>NaN</td>\n",
       "      <td>NaN</td>\n",
       "      <td>Denmark/Sweden</td>\n",
       "      <td>DEN</td>\n",
       "      <td>1900 Summer</td>\n",
       "      <td>1900</td>\n",
       "      <td>Summer</td>\n",
       "      <td>Paris</td>\n",
       "      <td>Tug-Of-War</td>\n",
       "      <td>Tug-Of-War Men's Tug-Of-War</td>\n",
       "      <td>Gold</td>\n",
       "    </tr>\n",
       "    <tr>\n",
       "      <th>4</th>\n",
       "      <td>5</td>\n",
       "      <td>Christine Jacoba Aaftink</td>\n",
       "      <td>F</td>\n",
       "      <td>21.0</td>\n",
       "      <td>185.0</td>\n",
       "      <td>82.0</td>\n",
       "      <td>Netherlands</td>\n",
       "      <td>NED</td>\n",
       "      <td>1988 Winter</td>\n",
       "      <td>1988</td>\n",
       "      <td>Winter</td>\n",
       "      <td>Calgary</td>\n",
       "      <td>Speed Skating</td>\n",
       "      <td>Speed Skating Women's 500 metres</td>\n",
       "      <td>NaN</td>\n",
       "    </tr>\n",
       "  </tbody>\n",
       "</table>\n",
       "</div>"
      ],
      "text/plain": [
       "   ID                      Name Sex   Age  Height  Weight            Team  \\\n",
       "0   1                 A Dijiang   M  24.0   180.0    80.0           China   \n",
       "1   2                  A Lamusi   M  23.0   170.0    60.0           China   \n",
       "2   3       Gunnar Nielsen Aaby   M  24.0     NaN     NaN         Denmark   \n",
       "3   4      Edgar Lindenau Aabye   M  34.0     NaN     NaN  Denmark/Sweden   \n",
       "4   5  Christine Jacoba Aaftink   F  21.0   185.0    82.0     Netherlands   \n",
       "\n",
       "   NOC        Games  Year  Season       City          Sport  \\\n",
       "0  CHN  1992 Summer  1992  Summer  Barcelona     Basketball   \n",
       "1  CHN  2012 Summer  2012  Summer     London           Judo   \n",
       "2  DEN  1920 Summer  1920  Summer  Antwerpen       Football   \n",
       "3  DEN  1900 Summer  1900  Summer      Paris     Tug-Of-War   \n",
       "4  NED  1988 Winter  1988  Winter    Calgary  Speed Skating   \n",
       "\n",
       "                              Event Medal  \n",
       "0       Basketball Men's Basketball   NaN  \n",
       "1      Judo Men's Extra-Lightweight   NaN  \n",
       "2           Football Men's Football   NaN  \n",
       "3       Tug-Of-War Men's Tug-Of-War  Gold  \n",
       "4  Speed Skating Women's 500 metres   NaN  "
      ]
     },
     "execution_count": 2,
     "metadata": {},
     "output_type": "execute_result"
    }
   ],
   "source": [
    "#reading in data\n",
    "athletes = pd.read_csv(\"/Users/tatevgomtsyan/athlete_events.csv\")\n",
    "athletes.head()"
   ]
  },
  {
   "cell_type": "markdown",
   "id": "aa514ff3-22d9-45de-a93f-04f143b090d3",
   "metadata": {},
   "source": [
    "some team names are poorly formatted, but still register in the correct NOC code, so we'll just focus on NOC instead of team name"
   ]
  },
  {
   "cell_type": "code",
   "execution_count": 3,
   "id": "11b9c27b-ba73-4aa0-bf9e-2035664cabfd",
   "metadata": {},
   "outputs": [
    {
     "data": {
      "text/plain": [
       "(271116, 15)"
      ]
     },
     "execution_count": 3,
     "metadata": {},
     "output_type": "execute_result"
    }
   ],
   "source": [
    "# checking the size of df\n",
    "athletes.shape"
   ]
  },
  {
   "cell_type": "markdown",
   "id": "ef70d633-5523-4187-ac13-206c71baa7c6",
   "metadata": {},
   "source": [
    "### Initial Analysis:"
   ]
  },
  {
   "cell_type": "code",
   "execution_count": 4,
   "id": "2f0ff9af-60ad-43c6-a0f4-aa6a9340f9cc",
   "metadata": {},
   "outputs": [
    {
     "data": {
      "text/plain": [
       "array(['CHN', 'DEN', 'NED', 'USA', 'FIN', 'NOR', 'ROU', 'EST', 'FRA',\n",
       "       'MAR', 'ESP', 'EGY', 'IRI', 'BUL', 'ITA', 'CHA', 'AZE', 'SUD',\n",
       "       'RUS', 'ARG', 'CUB', 'BLR', 'GRE', 'CMR', 'TUR', 'CHI', 'MEX',\n",
       "       'URS', 'NCA', 'HUN', 'NGR', 'ALG', 'KUW', 'BRN', 'PAK', 'IRQ',\n",
       "       'UAR', 'LIB', 'QAT', 'MAS', 'GER', 'CAN', 'IRL', 'AUS', 'RSA',\n",
       "       'ERI', 'TAN', 'JOR', 'TUN', 'LBA', 'BEL', 'DJI', 'PLE', 'COM',\n",
       "       'KAZ', 'BRU', 'IND', 'KSA', 'SYR', 'MDV', 'ETH', 'UAE', 'YAR',\n",
       "       'INA', 'PHI', 'SGP', 'UZB', 'KGZ', 'TJK', 'EUN', 'JPN', 'CGO',\n",
       "       'SUI', 'BRA', 'FRG', 'GDR', 'MON', 'ISR', 'URU', 'SWE', 'ISV',\n",
       "       'SRI', 'ARM', 'CIV', 'KEN', 'BEN', 'UKR', 'GBR', 'GHA', 'SOM',\n",
       "       'LAT', 'NIG', 'MLI', 'AFG', 'POL', 'CRC', 'PAN', 'GEO', 'SLO',\n",
       "       'CRO', 'GUY', 'NZL', 'POR', 'PAR', 'ANG', 'VEN', 'COL', 'BAN',\n",
       "       'PER', 'ESA', 'PUR', 'UGA', 'HON', 'ECU', 'TKM', 'MRI', 'SEY',\n",
       "       'TCH', 'LUX', 'MTN', 'CZE', 'SKN', 'TTO', 'DOM', 'VIN', 'JAM',\n",
       "       'LBR', 'SUR', 'NEP', 'MGL', 'AUT', 'PLW', 'LTU', 'TOG', 'NAM',\n",
       "       'AHO', 'ISL', 'ASA', 'SAM', 'RWA', 'DMA', 'HAI', 'MLT', 'CYP',\n",
       "       'GUI', 'BIZ', 'YMD', 'KOR', 'THA', 'BER', 'ANZ', 'SCG', 'SLE',\n",
       "       'PNG', 'YEM', 'IOA', 'OMA', 'FIJ', 'VAN', 'MDA', 'YUG', 'BAH',\n",
       "       'GUA', 'SRB', 'IVB', 'MOZ', 'CAF', 'MAD', 'MAL', 'BIH', 'GUM',\n",
       "       'CAY', 'SVK', 'BAR', 'GBS', 'TLS', 'COD', 'GAB', 'SMR', 'LAO',\n",
       "       'BOT', 'ROT', 'CAM', 'PRK', 'SOL', 'SEN', 'CPV', 'CRT', 'GEQ',\n",
       "       'BOL', 'SAA', 'AND', 'ANT', 'ZIM', 'GRN', 'HKG', 'LCA', 'FSM',\n",
       "       'MYA', 'MAW', 'ZAM', 'RHO', 'TPE', 'STP', 'MKD', 'BOH', 'TGA',\n",
       "       'LIE', 'MNE', 'GAM', 'COK', 'ALB', 'WIF', 'SWZ', 'BUR', 'NBO',\n",
       "       'BDI', 'ARU', 'NRU', 'VNM', 'VIE', 'BHU', 'MHL', 'KIR', 'UNK',\n",
       "       'TUV', 'NFL', 'KOS', 'SSD', 'LES'], dtype=object)"
      ]
     },
     "execution_count": 4,
     "metadata": {},
     "output_type": "execute_result"
    }
   ],
   "source": [
    "# let's see what countries are present\n",
    "athletes['NOC'].unique()"
   ]
  },
  {
   "cell_type": "code",
   "execution_count": 5,
   "id": "6402ef9c-2dc6-436d-af92-ff5b85b327fe",
   "metadata": {},
   "outputs": [
    {
     "data": {
      "text/plain": [
       "array([1964, 1980, 1972, 1988, 1960, 1976, 1968, 1956, 1952, 1984])"
      ]
     },
     "execution_count": 5,
     "metadata": {},
     "output_type": "execute_result"
    }
   ],
   "source": [
    "urs_participations = athletes[athletes['NOC'] == 'URS']\n",
    "urs_participation_years = urs_participations['Year'].unique()\n",
    "urs_participation_years"
   ]
  },
  {
   "cell_type": "code",
   "execution_count": 6,
   "id": "f59b250e-023e-4c30-9d08-65cef7b3f168",
   "metadata": {},
   "outputs": [
    {
     "name": "stdout",
     "output_type": "stream",
     "text": [
      "Years with no Olympics: [1916, 1940, 1944]\n"
     ]
    }
   ],
   "source": [
    "# lets check if there are any years the olympics didn't occur \n",
    "\n",
    "# expected Olympic years 1896 to 2020\n",
    "expected_years = [1896, 1900, 1904, 1906, 1908, 1912, 1916, 1920, 1924, 1928, 1932, 1936, 1940, 1944, 1948,\n",
    "                  1952, 1956, 1960, 1964, 1968, 1972, 1976, 1980, 1984, 1988, 1992, 1994,\n",
    "                  1996, 1998, 2000, 2002, 2004, 2006, 2008, 2010, 2012, 2014, 2016]\n",
    "\n",
    "# missing years\n",
    "missing_years = set(expected_years) - set(athletes['Year'].unique())\n",
    "\n",
    "print(\"Years with no Olympics:\", sorted(missing_years))"
   ]
  },
  {
   "cell_type": "code",
   "execution_count": 7,
   "id": "68641bea-1226-4078-bbc3-4f0b04c1a808",
   "metadata": {},
   "outputs": [
    {
     "name": "stdout",
     "output_type": "stream",
     "text": [
      "[1992 2012 1920 1900 1988 1994 1932 2002 1952 1980 2000 1996 1912 1924\n",
      " 2014 1948 1998 2006 2008 2016 2004 1960 1964 1984 1968 1972 1936 1956\n",
      " 1928 1976 2010 1906 1904 1908 1896]\n"
     ]
    }
   ],
   "source": [
    "print(athletes['Year'].unique())\n",
    "#verified above claim"
   ]
  },
  {
   "cell_type": "markdown",
   "id": "d0400d01-0b4d-4b99-ae08-44b6fdbd8616",
   "metadata": {},
   "source": [
    "#### **Things to point out:**\n",
    "- The first Olympics was in 1896 and the last in the dataset is 2016. No Games occurred in 1916, 1940, 1944 due to WWI and WWII.\n",
    "- The Soviet Union (URS) participated in Olympic Games from 1952 to 1988. After URS fell, Russia (RUS) took its place in the games. Combining the two would be extensive and was not important for my case today.\n",
    "- In a similar manner, Germany existed as both West Germany (Federal Republic of Germany or FRG) and East Germany (German Democratic Republic or GDR). FRG and GDR participated from 1968 until the fall of the Berlin Wall. After 1988, the data only contains modern day Germany as GER. \n",
    "- Yugoslavia participated from 1918-1992 until its demise. This is unaccounted for in the analysis, left as is."
   ]
  },
  {
   "cell_type": "code",
   "execution_count": 8,
   "id": "aa39788b-45c2-4faf-a152-45126d85a17d",
   "metadata": {},
   "outputs": [
    {
     "data": {
      "image/png": "[encoded data removed]",
      "text/plain": [
       "<Figure size 1200x600 with 1 Axes>"
      ]
     },
     "metadata": {},
     "output_type": "display_data"
    }
   ],
   "source": [
    "# performance of FRG, GDR, URS, and YUG before their terminations\n",
    "selected_countries = ['FRG', 'GDR', 'URS', 'YUG']\n",
    "filtered_data = athletes[athletes['NOC'].isin(selected_countries)]\n",
    "\n",
    "total_medals_by_year_country = filtered_data.groupby(['Year', 'NOC'])['Medal'].count().unstack()\n",
    "\n",
    "# total medal count by year for each country\n",
    "plt.figure(figsize=(12, 6))\n",
    "for country in selected_countries:\n",
    "    plt.plot(total_medals_by_year_country.index, total_medals_by_year_country[country], label=country)\n",
    "\n",
    "plt.title('Total Medal Count by Year for FRG, GDR, URS, and YUG')\n",
    "plt.xlabel('Year')\n",
    "plt.ylabel('Total Medal Count')\n",
    "plt.legend()\n",
    "plt.grid(True)\n",
    "plt.show()\n"
   ]
  },
  {
   "cell_type": "markdown",
   "id": "6e2dec1a-be82-49f4-b470-4a1d189d64c9",
   "metadata": {},
   "source": [
    "While Yugoslavia's participation spans almost a decade, its performance was low and steady, only nearing 100 count around 1985, until falling sharply during its breakup. In contrast, the Soviet Union participated for less than 40 years and reached immense success. Granted, there were 15 countries encompassed by URS and only 7 in YUG. East Germany outperformed the West during their tenures. It would be interesting to compare this to performance of modern day countries who broke free from URS and YUG."
   ]
  },
  {
   "cell_type": "code",
   "execution_count": 9,
   "id": "1ec74dae-00f5-400f-bba9-8a26ccf47c88",
   "metadata": {},
   "outputs": [],
   "source": [
    "# we should combine all german NOCs to just present as GER\n",
    "\n",
    "# Identify 'FRG' or 'GDR' in the 'NOC' column and replace with 'GER'\n",
    "athletes['NOC'] = athletes['NOC'].replace({'FRG': 'GER', 'GDR': 'GER'})"
   ]
  },
  {
   "cell_type": "code",
   "execution_count": 10,
   "id": "32aa7e25-7cba-4e23-b0d6-3feba43b3f27",
   "metadata": {},
   "outputs": [
    {
     "name": "stdout",
     "output_type": "stream",
     "text": [
      "P_value > alpha. We fail to reject the null hypothesis. There is not enough evidence to suggest a significant change in Germany's performance post-Berlin Wall\n"
     ]
    },
    {
     "data": {
      "text/plain": [
       "0.29043371068814466"
      ]
     },
     "execution_count": 10,
     "metadata": {},
     "output_type": "execute_result"
    }
   ],
   "source": [
    "# did Germany's performance significantly change before and after the fall of the Berlin Wall?\n",
    "\n",
    "from scipy.stats import ttest_ind\n",
    "\n",
    "# year of the fall of the Berlin Wall\n",
    "fall_of_berlin_wall_year = 1989\n",
    "\n",
    "# Germany before and after 1989\n",
    "medals_before_berlin_wall = athletes.loc[\n",
    "    (athletes['NOC'] == 'GER') & (athletes['Year'] <= fall_of_berlin_wall_year),\n",
    "    ['Year', 'Medal']\n",
    "]\n",
    "\n",
    "medals_after_berlin_wall = athletes.loc[\n",
    "    (athletes['NOC'].str.lower() == 'ger') & (athletes['Year'] > fall_of_berlin_wall_year),\n",
    "    ['Year', 'Medal']\n",
    "]\n",
    "\n",
    "# total medal count per year\n",
    "total_medals_before_berlin_wall = medals_before_berlin_wall.groupby('Year')['Medal'].count()\n",
    "total_medals_after_berlin_wall = medals_after_berlin_wall.groupby('Year')['Medal'].count()\n",
    "\n",
    "# Two-Sample T-Test\n",
    "t_stat, p_value = ttest_ind(total_medals_before_berlin_wall, total_medals_after_berlin_wall, equal_var=False)\n",
    "\n",
    "# Significance Level\n",
    "alpha = 0.05\n",
    "\n",
    "# Interpret Results\n",
    "if p_value < alpha:\n",
    "    print(\"Reject the null hypothesis. There is evidence that the total medal count changed before and after the fall of the Berlin Wall.\")\n",
    "else:\n",
    "    print(\"P_value > alpha. We fail to reject the null hypothesis. There is not enough evidence to suggest a significant change in Germany's performance post-Berlin Wall\")\n",
    "p_value"
   ]
  },
  {
   "cell_type": "markdown",
   "id": "086c94f6-6ecf-4af5-9b3b-d3621720d413",
   "metadata": {},
   "source": [
    "## Data Cleaning"
   ]
  },
  {
   "cell_type": "code",
   "execution_count": 11,
   "id": "baa22dd5-93b9-4ef3-96dd-183c07e0232c",
   "metadata": {},
   "outputs": [
    {
     "data": {
      "text/plain": [
       "ID             0\n",
       "Name           0\n",
       "Sex            0\n",
       "Age         9474\n",
       "Height     60171\n",
       "Weight     62875\n",
       "Team           0\n",
       "NOC            0\n",
       "Games          0\n",
       "Year           0\n",
       "Season         0\n",
       "City           0\n",
       "Sport          0\n",
       "Event          0\n",
       "Medal     231333\n",
       "dtype: int64"
      ]
     },
     "execution_count": 11,
     "metadata": {},
     "output_type": "execute_result"
    }
   ],
   "source": [
    "athletes.isnull().sum()"
   ]
  },
  {
   "cell_type": "markdown",
   "id": "5ff6c33f-f7b3-4a38-a14a-6371324bae3b",
   "metadata": {},
   "source": [
    "Off the bat, we recognize that there is missing data in a number of columns including age, height, and weight which is all demographic information. Since it will prove useful for the exploratory analyhsis to look at such factors, and since the majority of the data is still present, we'll keep these columns and just keep iin mind that our findings may not be representative of the whole population, but isnteade of a sample. "
   ]
  },
  {
   "cell_type": "markdown",
   "id": "857ac4f3-01ed-4047-82b0-99946422944a",
   "metadata": {},
   "source": [
    "Instead, we can impute the rows with missing values to equal the median of each category in order to avoid issues caused by NaNs and ensure that the data is not heavily skewed, as a mean would do. "
   ]
  },
  {
   "cell_type": "code",
   "execution_count": 12,
   "id": "a3f6e160-4336-4c7d-a694-5a503abd46da",
   "metadata": {},
   "outputs": [],
   "source": [
    "# imputing NaNs\n",
    "athletes['Height'].fillna(athletes['Height'].median(), inplace=True)\n",
    "athletes['Weight'].fillna(athletes['Weight'].median(), inplace=True)\n",
    "athletes['Age'].fillna(athletes['Age'].median(), inplace=True)\n",
    "#athletes['Medal'].fillna('No Medal', inplace=True)"
   ]
  },
  {
   "cell_type": "markdown",
   "id": "73f154a9-d263-4f5e-92e3-444e386d7a14",
   "metadata": {},
   "source": [
    "Games column doesn't give us additional information we don't already have. The year and season variables are identical and is easier to use in EDA. We can drop the games column. "
   ]
  },
  {
   "cell_type": "code",
   "execution_count": 13,
   "id": "5b902ef3-8c72-4674-a116-381eb9c9195a",
   "metadata": {},
   "outputs": [],
   "source": [
    "athletes = athletes.drop(columns=['Games'])"
   ]
  },
  {
   "cell_type": "code",
   "execution_count": 14,
   "id": "253bb905-2b9f-47b4-8fb7-ad5b989a88bd",
   "metadata": {},
   "outputs": [],
   "source": [
    "# Sort the df by 'Year' in ascending order\n",
    "athletes = athletes.sort_values(by='Year', ascending=True).reset_index(drop=True)"
   ]
  },
  {
   "cell_type": "code",
   "execution_count": 15,
   "id": "01a94e87-d9e8-4ecb-8810-c6579a078171",
   "metadata": {},
   "outputs": [
    {
     "name": "stdout",
     "output_type": "stream",
     "text": [
      "<class 'pandas.core.frame.DataFrame'>\n",
      "RangeIndex: 271116 entries, 0 to 271115\n",
      "Data columns (total 14 columns):\n",
      " #   Column  Non-Null Count   Dtype  \n",
      "---  ------  --------------   -----  \n",
      " 0   ID      271116 non-null  int64  \n",
      " 1   Name    271116 non-null  object \n",
      " 2   Sex     271116 non-null  object \n",
      " 3   Age     271116 non-null  float64\n",
      " 4   Height  271116 non-null  float64\n",
      " 5   Weight  271116 non-null  float64\n",
      " 6   Team    271116 non-null  object \n",
      " 7   NOC     271116 non-null  object \n",
      " 8   Year    271116 non-null  int64  \n",
      " 9   Season  271116 non-null  object \n",
      " 10  City    271116 non-null  object \n",
      " 11  Sport   271116 non-null  object \n",
      " 12  Event   271116 non-null  object \n",
      " 13  Medal   39783 non-null   object \n",
      "dtypes: float64(3), int64(2), object(9)\n",
      "memory usage: 29.0+ MB\n"
     ]
    }
   ],
   "source": [
    "athletes.info() # tells us data type of each variable "
   ]
  },
  {
   "cell_type": "code",
   "execution_count": 16,
   "id": "1775a373-1950-46e3-a8fb-bfb5ad6549b3",
   "metadata": {},
   "outputs": [],
   "source": [
    "# data type conversions\n",
    "athletes['Age'] = athletes['Age'].astype(int)\n",
    "athletes['Year'] = athletes['Year'].astype(int)\n",
    "athletes['ID'] = athletes['ID'].astype(str)"
   ]
  },
  {
   "cell_type": "markdown",
   "id": "665aab19-8a96-44ed-8d37-cb0df8d270bc",
   "metadata": {},
   "source": [
    "### Overall Statistics:\n",
    "\n",
    "Total number of records (rows) in the dataset.\n",
    "Number of unique cities, athletes, and events.\n",
    "Distribution of data across different sports and disciplines.\n",
    "\n",
    "correlations:\n",
    "age - medal \n",
    "age - year \n",
    "height/weight - year "
   ]
  },
  {
   "cell_type": "code",
   "execution_count": 17,
   "id": "c52de30a-041a-400a-ba32-f49e50f70148",
   "metadata": {},
   "outputs": [
    {
     "data": {
      "text/plain": [
       "(271116, 14)"
      ]
     },
     "execution_count": 17,
     "metadata": {},
     "output_type": "execute_result"
    }
   ],
   "source": [
    "# number of rows and columns (size of dataset)\n",
    "athletes.shape"
   ]
  },
  {
   "cell_type": "code",
   "execution_count": 18,
   "id": "471ce3d3-4e22-454a-b1b6-b8d1df047949",
   "metadata": {},
   "outputs": [
    {
     "data": {
      "image/png": "[encoded data removed]",
      "text/plain": [
       "<Figure size 640x480 with 1 Axes>"
      ]
     },
     "metadata": {},
     "output_type": "display_data"
    },
    {
     "data": {
      "image/png": "[encoded data removed]",
      "text/plain": [
       "<Figure size 640x480 with 1 Axes>"
      ]
     },
     "metadata": {},
     "output_type": "display_data"
    },
    {
     "data": {
      "image/png": "[encoded data removed]",
      "text/plain": [
       "<Figure size 640x480 with 1 Axes>"
      ]
     },
     "metadata": {},
     "output_type": "display_data"
    }
   ],
   "source": [
    "# Descriptive Summaries of Numerical Variables\n",
    "\n",
    "plt.boxplot(athletes['Age'])\n",
    "plt.title('Boxplot of Age')\n",
    "plt.ylabel('Age')\n",
    "plt.show()\n",
    "\n",
    "plt.boxplot(athletes['Height'])\n",
    "plt.title('Boxplot of Height')\n",
    "plt.ylabel('Height')\n",
    "plt.show()\n",
    "\n",
    "plt.boxplot(athletes['Weight'])\n",
    "plt.title('Boxplot of Weight')\n",
    "plt.ylabel('Weight')\n",
    "plt.show()\n"
   ]
  },
  {
   "cell_type": "code",
   "execution_count": 19,
   "id": "86f52e21-7771-4a0c-98f2-91c2ef30a121",
   "metadata": {},
   "outputs": [
    {
     "name": "stdout",
     "output_type": "stream",
     "text": [
      "                 Age        Height         Weight           Year\n",
      "count  271116.000000  271116.00000  271116.000000  271116.000000\n",
      "mean       25.502493     175.26374      70.539500    1978.378480\n",
      "std         6.287361       9.27917      12.578184      29.877632\n",
      "min        10.000000     127.00000      25.000000    1896.000000\n",
      "25%        22.000000     170.00000      63.000000    1960.000000\n",
      "50%        24.000000     175.00000      70.000000    1988.000000\n",
      "75%        28.000000     180.00000      75.000000    2002.000000\n",
      "max        97.000000     226.00000     214.000000    2016.000000\n"
     ]
    }
   ],
   "source": [
    "# Basic statistical summary\n",
    "print(athletes.describe())"
   ]
  },
  {
   "cell_type": "code",
   "execution_count": 20,
   "id": "cb089688-15b7-4ed0-8a05-a2a6f0ad81d1",
   "metadata": {},
   "outputs": [
    {
     "data": {
      "text/html": [
       "<div>\n",
       "<style scoped>\n",
       "    .dataframe tbody tr th:only-of-type {\n",
       "        vertical-align: middle;\n",
       "    }\n",
       "\n",
       "    .dataframe tbody tr th {\n",
       "        vertical-align: top;\n",
       "    }\n",
       "\n",
       "    .dataframe thead th {\n",
       "        text-align: right;\n",
       "    }\n",
       "</style>\n",
       "<table border=\"1\" class=\"dataframe\">\n",
       "  <thead>\n",
       "    <tr style=\"text-align: right;\">\n",
       "      <th></th>\n",
       "      <th>ID</th>\n",
       "      <th>Name</th>\n",
       "      <th>Sex</th>\n",
       "      <th>Age</th>\n",
       "      <th>Height</th>\n",
       "      <th>Weight</th>\n",
       "      <th>Team</th>\n",
       "      <th>NOC</th>\n",
       "      <th>Year</th>\n",
       "      <th>Season</th>\n",
       "      <th>City</th>\n",
       "      <th>Sport</th>\n",
       "      <th>Event</th>\n",
       "      <th>Medal</th>\n",
       "    </tr>\n",
       "  </thead>\n",
       "  <tbody>\n",
       "    <tr>\n",
       "      <th>0</th>\n",
       "      <td>107607</td>\n",
       "      <td>Fritz Richard Gustav Schuft</td>\n",
       "      <td>M</td>\n",
       "      <td>19</td>\n",
       "      <td>175.0</td>\n",
       "      <td>70.0</td>\n",
       "      <td>Germany</td>\n",
       "      <td>GER</td>\n",
       "      <td>1896</td>\n",
       "      <td>Summer</td>\n",
       "      <td>Athina</td>\n",
       "      <td>Gymnastics</td>\n",
       "      <td>Gymnastics Men's Pommelled Horse</td>\n",
       "      <td>NaN</td>\n",
       "    </tr>\n",
       "    <tr>\n",
       "      <th>1</th>\n",
       "      <td>122526</td>\n",
       "      <td>Pierre Alexandre Tuffri</td>\n",
       "      <td>M</td>\n",
       "      <td>19</td>\n",
       "      <td>175.0</td>\n",
       "      <td>70.0</td>\n",
       "      <td>France</td>\n",
       "      <td>FRA</td>\n",
       "      <td>1896</td>\n",
       "      <td>Summer</td>\n",
       "      <td>Athina</td>\n",
       "      <td>Athletics</td>\n",
       "      <td>Athletics Men's Triple Jump</td>\n",
       "      <td>Silver</td>\n",
       "    </tr>\n",
       "    <tr>\n",
       "      <th>2</th>\n",
       "      <td>122526</td>\n",
       "      <td>Pierre Alexandre Tuffri</td>\n",
       "      <td>M</td>\n",
       "      <td>19</td>\n",
       "      <td>175.0</td>\n",
       "      <td>70.0</td>\n",
       "      <td>France</td>\n",
       "      <td>FRA</td>\n",
       "      <td>1896</td>\n",
       "      <td>Summer</td>\n",
       "      <td>Athina</td>\n",
       "      <td>Athletics</td>\n",
       "      <td>Athletics Men's Long Jump</td>\n",
       "      <td>NaN</td>\n",
       "    </tr>\n",
       "    <tr>\n",
       "      <th>3</th>\n",
       "      <td>12563</td>\n",
       "      <td>Conrad Helmut Fritz Bcker</td>\n",
       "      <td>M</td>\n",
       "      <td>25</td>\n",
       "      <td>175.0</td>\n",
       "      <td>70.0</td>\n",
       "      <td>Germany</td>\n",
       "      <td>GER</td>\n",
       "      <td>1896</td>\n",
       "      <td>Summer</td>\n",
       "      <td>Athina</td>\n",
       "      <td>Gymnastics</td>\n",
       "      <td>Gymnastics Men's Horse Vault</td>\n",
       "      <td>NaN</td>\n",
       "    </tr>\n",
       "    <tr>\n",
       "      <th>4</th>\n",
       "      <td>12563</td>\n",
       "      <td>Conrad Helmut Fritz Bcker</td>\n",
       "      <td>M</td>\n",
       "      <td>25</td>\n",
       "      <td>175.0</td>\n",
       "      <td>70.0</td>\n",
       "      <td>Germany</td>\n",
       "      <td>GER</td>\n",
       "      <td>1896</td>\n",
       "      <td>Summer</td>\n",
       "      <td>Athina</td>\n",
       "      <td>Gymnastics</td>\n",
       "      <td>Gymnastics Men's Parallel Bars</td>\n",
       "      <td>NaN</td>\n",
       "    </tr>\n",
       "  </tbody>\n",
       "</table>\n",
       "</div>"
      ],
      "text/plain": [
       "       ID                         Name Sex  Age  Height  Weight     Team  NOC  \\\n",
       "0  107607  Fritz Richard Gustav Schuft   M   19   175.0    70.0  Germany  GER   \n",
       "1  122526      Pierre Alexandre Tuffri   M   19   175.0    70.0   France  FRA   \n",
       "2  122526      Pierre Alexandre Tuffri   M   19   175.0    70.0   France  FRA   \n",
       "3   12563    Conrad Helmut Fritz Bcker   M   25   175.0    70.0  Germany  GER   \n",
       "4   12563    Conrad Helmut Fritz Bcker   M   25   175.0    70.0  Germany  GER   \n",
       "\n",
       "   Year  Season    City       Sport                             Event   Medal  \n",
       "0  1896  Summer  Athina  Gymnastics  Gymnastics Men's Pommelled Horse     NaN  \n",
       "1  1896  Summer  Athina   Athletics       Athletics Men's Triple Jump  Silver  \n",
       "2  1896  Summer  Athina   Athletics         Athletics Men's Long Jump     NaN  \n",
       "3  1896  Summer  Athina  Gymnastics      Gymnastics Men's Horse Vault     NaN  \n",
       "4  1896  Summer  Athina  Gymnastics    Gymnastics Men's Parallel Bars     NaN  "
      ]
     },
     "execution_count": 20,
     "metadata": {},
     "output_type": "execute_result"
    }
   ],
   "source": [
    "athletes.head()"
   ]
  },
  {
   "cell_type": "markdown",
   "id": "a970230d-8e1e-4df7-a27e-134be2858351",
   "metadata": {},
   "source": [
    "### Summer and Winter data"
   ]
  },
  {
   "cell_type": "code",
   "execution_count": 21,
   "id": "003020f5-705f-4b99-a733-68678f297405",
   "metadata": {},
   "outputs": [],
   "source": [
    "# split athletes df into two: 1 for summer games, 1 for winter \n",
    "\n",
    "summer = athletes[athletes['Season'] == 'Summer']\n",
    "winter = athletes[athletes['Season'] == 'Winter']"
   ]
  },
  {
   "cell_type": "code",
   "execution_count": 22,
   "id": "c8860806-c896-486d-9c69-e7b7695f2b9e",
   "metadata": {},
   "outputs": [
    {
     "name": "stdout",
     "output_type": "stream",
     "text": [
      "['Gymnastics' 'Athletics' 'Shooting' 'Tennis' 'Fencing' 'Swimming'\n",
      " 'Cycling' 'Weightlifting' 'Wrestling' 'Croquet' 'Water Polo' 'Sailing'\n",
      " 'Rowing' 'Tug-Of-War' 'Polo' 'Equestrianism' 'Rugby' 'Football' 'Archery'\n",
      " 'Cricket' 'Golf' 'Basque Pelota' 'Boxing' 'Lacrosse' 'Diving' 'Roque'\n",
      " 'Hockey' 'Figure Skating' 'Jeu De Paume' 'Motorboating' 'Racquets'\n",
      " 'Art Competitions' 'Modern Pentathlon' 'Ice Hockey' 'Alpinism' 'Canoeing'\n",
      " 'Basketball' 'Handball' 'Aeronautics' 'Volleyball' 'Judo'\n",
      " 'Synchronized Swimming' 'Rhythmic Gymnastics' 'Table Tennis' 'Badminton'\n",
      " 'Baseball' 'Softball' 'Beach Volleyball' 'Triathlon' 'Taekwondo'\n",
      " 'Trampolining' 'Rugby Sevens']\n"
     ]
    }
   ],
   "source": [
    "print(summer['Sport'].unique())"
   ]
  },
  {
   "cell_type": "code",
   "execution_count": 23,
   "id": "129b111a-2f1c-4130-9951-04f673ec5ca2",
   "metadata": {},
   "outputs": [
    {
     "name": "stdout",
     "output_type": "stream",
     "text": [
      "['Cross Country Skiing' 'Nordic Combined' 'Ice Hockey' 'Alpinism'\n",
      " 'Bobsleigh' 'Military Ski Patrol' 'Ski Jumping' 'Curling' 'Speed Skating'\n",
      " 'Figure Skating' 'Skeleton' 'Alpine Skiing' 'Biathlon' 'Luge'\n",
      " 'Freestyle Skiing' 'Short Track Speed Skating' 'Snowboarding']\n"
     ]
    }
   ],
   "source": [
    "print(winter['Sport'].unique())"
   ]
  },
  {
   "cell_type": "code",
   "execution_count": 24,
   "id": "1fafeb9b-3979-4abe-ac4f-aeda57c3b4f1",
   "metadata": {},
   "outputs": [
    {
     "name": "stdout",
     "output_type": "stream",
     "text": [
      "Event\n",
      "Football Men's Football                                5733\n",
      "Hockey Men's Hockey                                    3958\n",
      "Water Polo Men's Water Polo                            3358\n",
      "Basketball Men's Basketball                            3280\n",
      "Cycling Men's Road Race, Individual                    2947\n",
      "                                                       ... \n",
      "Archery Men's Target Archery, 33 metres, Individual       2\n",
      "Sailing Mixed 18 foot                                     2\n",
      "Croquet Mixed Doubles                                     2\n",
      "Archery Men's Target Archery, 50 metres, Individual       2\n",
      "Aeronautics Mixed Aeronautics                             1\n",
      "Name: count, Length: 651, dtype: int64\n"
     ]
    }
   ],
   "source": [
    "print(summer['Event'].value_counts())"
   ]
  },
  {
   "cell_type": "code",
   "execution_count": 25,
   "id": "bc534165-74cf-439f-ab26-98966ec32830",
   "metadata": {},
   "outputs": [
    {
     "name": "stdout",
     "output_type": "stream",
     "text": [
      "Event\n",
      "Ice Hockey Men's Ice Hockey            4702\n",
      "Bobsleigh Men's Four                   1715\n",
      "Alpine Skiing Men's Slalom             1593\n",
      "Alpine Skiing Men's Giant Slalom       1535\n",
      "Alpine Skiing Men's Downhill           1164\n",
      "                                       ... \n",
      "Speed Skating Men's Allround             23\n",
      "Freestyle Skiing Women's Halfpipe        23\n",
      "Snowboarding Women's Slopestyle          23\n",
      "Freestyle Skiing Women's Slopestyle      22\n",
      "Alpinism Mixed Alpinism                  21\n",
      "Name: count, Length: 119, dtype: int64\n"
     ]
    }
   ],
   "source": [
    "print(winter['Event'].value_counts())"
   ]
  },
  {
   "cell_type": "markdown",
   "id": "a9eecfb4-85a3-48a5-a3fb-921e836c9241",
   "metadata": {},
   "source": [
    "**Most popular events:**\n",
    "\n",
    "Summer - football, hockey, water polo, bball, cycling\n",
    "\n",
    "Winter - ice hockey, bobsleigh, alpine skiing "
   ]
  },
  {
   "cell_type": "markdown",
   "id": "2b00af49-bb54-4502-8a2f-8d5712805ed0",
   "metadata": {},
   "source": [
    "### Summer & Winter Olympics Participation Stats"
   ]
  },
  {
   "cell_type": "code",
   "execution_count": 26,
   "id": "c45ca811-6e64-4f82-a845-90f99c054f28",
   "metadata": {},
   "outputs": [
    {
     "name": "stdout",
     "output_type": "stream",
     "text": [
      "Summer Olympics:\n"
     ]
    },
    {
     "data": {
      "text/html": [
       "<div>\n",
       "<style scoped>\n",
       "    .dataframe tbody tr th:only-of-type {\n",
       "        vertical-align: middle;\n",
       "    }\n",
       "\n",
       "    .dataframe tbody tr th {\n",
       "        vertical-align: top;\n",
       "    }\n",
       "\n",
       "    .dataframe thead th {\n",
       "        text-align: right;\n",
       "    }\n",
       "</style>\n",
       "<table border=\"1\" class=\"dataframe\">\n",
       "  <thead>\n",
       "    <tr style=\"text-align: right;\">\n",
       "      <th></th>\n",
       "      <th>ID</th>\n",
       "      <th>Name</th>\n",
       "      <th>Sex</th>\n",
       "      <th>Age</th>\n",
       "      <th>Height</th>\n",
       "      <th>Weight</th>\n",
       "      <th>Team</th>\n",
       "      <th>NOC</th>\n",
       "      <th>Year</th>\n",
       "      <th>Season</th>\n",
       "      <th>City</th>\n",
       "      <th>Sport</th>\n",
       "      <th>Event</th>\n",
       "      <th>Medal</th>\n",
       "    </tr>\n",
       "  </thead>\n",
       "  <tbody>\n",
       "    <tr>\n",
       "      <th>0</th>\n",
       "      <td>107607</td>\n",
       "      <td>Fritz Richard Gustav Schuft</td>\n",
       "      <td>M</td>\n",
       "      <td>19</td>\n",
       "      <td>175.0</td>\n",
       "      <td>70.0</td>\n",
       "      <td>Germany</td>\n",
       "      <td>GER</td>\n",
       "      <td>1896</td>\n",
       "      <td>Summer</td>\n",
       "      <td>Athina</td>\n",
       "      <td>Gymnastics</td>\n",
       "      <td>Gymnastics Men's Pommelled Horse</td>\n",
       "      <td>NaN</td>\n",
       "    </tr>\n",
       "    <tr>\n",
       "      <th>1</th>\n",
       "      <td>122526</td>\n",
       "      <td>Pierre Alexandre Tuffri</td>\n",
       "      <td>M</td>\n",
       "      <td>19</td>\n",
       "      <td>175.0</td>\n",
       "      <td>70.0</td>\n",
       "      <td>France</td>\n",
       "      <td>FRA</td>\n",
       "      <td>1896</td>\n",
       "      <td>Summer</td>\n",
       "      <td>Athina</td>\n",
       "      <td>Athletics</td>\n",
       "      <td>Athletics Men's Triple Jump</td>\n",
       "      <td>Silver</td>\n",
       "    </tr>\n",
       "    <tr>\n",
       "      <th>2</th>\n",
       "      <td>122526</td>\n",
       "      <td>Pierre Alexandre Tuffri</td>\n",
       "      <td>M</td>\n",
       "      <td>19</td>\n",
       "      <td>175.0</td>\n",
       "      <td>70.0</td>\n",
       "      <td>France</td>\n",
       "      <td>FRA</td>\n",
       "      <td>1896</td>\n",
       "      <td>Summer</td>\n",
       "      <td>Athina</td>\n",
       "      <td>Athletics</td>\n",
       "      <td>Athletics Men's Long Jump</td>\n",
       "      <td>NaN</td>\n",
       "    </tr>\n",
       "    <tr>\n",
       "      <th>3</th>\n",
       "      <td>12563</td>\n",
       "      <td>Conrad Helmut Fritz Bcker</td>\n",
       "      <td>M</td>\n",
       "      <td>25</td>\n",
       "      <td>175.0</td>\n",
       "      <td>70.0</td>\n",
       "      <td>Germany</td>\n",
       "      <td>GER</td>\n",
       "      <td>1896</td>\n",
       "      <td>Summer</td>\n",
       "      <td>Athina</td>\n",
       "      <td>Gymnastics</td>\n",
       "      <td>Gymnastics Men's Horse Vault</td>\n",
       "      <td>NaN</td>\n",
       "    </tr>\n",
       "    <tr>\n",
       "      <th>4</th>\n",
       "      <td>12563</td>\n",
       "      <td>Conrad Helmut Fritz Bcker</td>\n",
       "      <td>M</td>\n",
       "      <td>25</td>\n",
       "      <td>175.0</td>\n",
       "      <td>70.0</td>\n",
       "      <td>Germany</td>\n",
       "      <td>GER</td>\n",
       "      <td>1896</td>\n",
       "      <td>Summer</td>\n",
       "      <td>Athina</td>\n",
       "      <td>Gymnastics</td>\n",
       "      <td>Gymnastics Men's Parallel Bars</td>\n",
       "      <td>NaN</td>\n",
       "    </tr>\n",
       "  </tbody>\n",
       "</table>\n",
       "</div>"
      ],
      "text/plain": [
       "       ID                         Name Sex  Age  Height  Weight     Team  NOC  \\\n",
       "0  107607  Fritz Richard Gustav Schuft   M   19   175.0    70.0  Germany  GER   \n",
       "1  122526      Pierre Alexandre Tuffri   M   19   175.0    70.0   France  FRA   \n",
       "2  122526      Pierre Alexandre Tuffri   M   19   175.0    70.0   France  FRA   \n",
       "3   12563    Conrad Helmut Fritz Bcker   M   25   175.0    70.0  Germany  GER   \n",
       "4   12563    Conrad Helmut Fritz Bcker   M   25   175.0    70.0  Germany  GER   \n",
       "\n",
       "   Year  Season    City       Sport                             Event   Medal  \n",
       "0  1896  Summer  Athina  Gymnastics  Gymnastics Men's Pommelled Horse     NaN  \n",
       "1  1896  Summer  Athina   Athletics       Athletics Men's Triple Jump  Silver  \n",
       "2  1896  Summer  Athina   Athletics         Athletics Men's Long Jump     NaN  \n",
       "3  1896  Summer  Athina  Gymnastics      Gymnastics Men's Horse Vault     NaN  \n",
       "4  1896  Summer  Athina  Gymnastics    Gymnastics Men's Parallel Bars     NaN  "
      ]
     },
     "execution_count": 26,
     "metadata": {},
     "output_type": "execute_result"
    }
   ],
   "source": [
    "print(\"Summer Olympics:\")\n",
    "summer.head()"
   ]
  },
  {
   "cell_type": "code",
   "execution_count": 27,
   "id": "72f7631b-ebdd-4401-ae89-c794542493c4",
   "metadata": {},
   "outputs": [
    {
     "name": "stdout",
     "output_type": "stream",
     "text": [
      "Winter Olympics:\n"
     ]
    },
    {
     "data": {
      "text/html": [
       "<div>\n",
       "<style scoped>\n",
       "    .dataframe tbody tr th:only-of-type {\n",
       "        vertical-align: middle;\n",
       "    }\n",
       "\n",
       "    .dataframe tbody tr th {\n",
       "        vertical-align: top;\n",
       "    }\n",
       "\n",
       "    .dataframe thead th {\n",
       "        text-align: right;\n",
       "    }\n",
       "</style>\n",
       "<table border=\"1\" class=\"dataframe\">\n",
       "  <thead>\n",
       "    <tr style=\"text-align: right;\">\n",
       "      <th></th>\n",
       "      <th>ID</th>\n",
       "      <th>Name</th>\n",
       "      <th>Sex</th>\n",
       "      <th>Age</th>\n",
       "      <th>Height</th>\n",
       "      <th>Weight</th>\n",
       "      <th>Team</th>\n",
       "      <th>NOC</th>\n",
       "      <th>Year</th>\n",
       "      <th>Season</th>\n",
       "      <th>City</th>\n",
       "      <th>Sport</th>\n",
       "      <th>Event</th>\n",
       "      <th>Medal</th>\n",
       "    </tr>\n",
       "  </thead>\n",
       "  <tbody>\n",
       "    <tr>\n",
       "      <th>16799</th>\n",
       "      <td>105349</td>\n",
       "      <td>Jonas Elis Sandin</td>\n",
       "      <td>M</td>\n",
       "      <td>22</td>\n",
       "      <td>175.0</td>\n",
       "      <td>70.0</td>\n",
       "      <td>Sweden</td>\n",
       "      <td>SWE</td>\n",
       "      <td>1924</td>\n",
       "      <td>Winter</td>\n",
       "      <td>Chamonix</td>\n",
       "      <td>Cross Country Skiing</td>\n",
       "      <td>Cross Country Skiing Men's 18 kilometres</td>\n",
       "      <td>NaN</td>\n",
       "    </tr>\n",
       "    <tr>\n",
       "      <th>16802</th>\n",
       "      <td>40532</td>\n",
       "      <td>Jules Alexandre Girard-Bille</td>\n",
       "      <td>M</td>\n",
       "      <td>24</td>\n",
       "      <td>175.0</td>\n",
       "      <td>70.0</td>\n",
       "      <td>Switzerland</td>\n",
       "      <td>SUI</td>\n",
       "      <td>1924</td>\n",
       "      <td>Winter</td>\n",
       "      <td>Chamonix</td>\n",
       "      <td>Nordic Combined</td>\n",
       "      <td>Nordic Combined Men's Individual</td>\n",
       "      <td>NaN</td>\n",
       "    </tr>\n",
       "    <tr>\n",
       "      <th>16812</th>\n",
       "      <td>83350</td>\n",
       "      <td>Duncan Brown \"Dunc\" Munro</td>\n",
       "      <td>M</td>\n",
       "      <td>23</td>\n",
       "      <td>173.0</td>\n",
       "      <td>86.0</td>\n",
       "      <td>Canada</td>\n",
       "      <td>CAN</td>\n",
       "      <td>1924</td>\n",
       "      <td>Winter</td>\n",
       "      <td>Chamonix</td>\n",
       "      <td>Ice Hockey</td>\n",
       "      <td>Ice Hockey Men's Ice Hockey</td>\n",
       "      <td>Gold</td>\n",
       "    </tr>\n",
       "    <tr>\n",
       "      <th>16852</th>\n",
       "      <td>74134</td>\n",
       "      <td>George Herbert Leigh Mallory</td>\n",
       "      <td>M</td>\n",
       "      <td>37</td>\n",
       "      <td>175.0</td>\n",
       "      <td>70.0</td>\n",
       "      <td>Great Britain</td>\n",
       "      <td>GBR</td>\n",
       "      <td>1924</td>\n",
       "      <td>Winter</td>\n",
       "      <td>Chamonix</td>\n",
       "      <td>Alpinism</td>\n",
       "      <td>Alpinism Mixed Alpinism</td>\n",
       "      <td>Gold</td>\n",
       "    </tr>\n",
       "    <tr>\n",
       "      <th>16892</th>\n",
       "      <td>106776</td>\n",
       "      <td>Eduard Scherrer</td>\n",
       "      <td>M</td>\n",
       "      <td>33</td>\n",
       "      <td>175.0</td>\n",
       "      <td>70.0</td>\n",
       "      <td>Switzerland-1</td>\n",
       "      <td>SUI</td>\n",
       "      <td>1924</td>\n",
       "      <td>Winter</td>\n",
       "      <td>Chamonix</td>\n",
       "      <td>Bobsleigh</td>\n",
       "      <td>Bobsleigh Men's Four/Five</td>\n",
       "      <td>Gold</td>\n",
       "    </tr>\n",
       "  </tbody>\n",
       "</table>\n",
       "</div>"
      ],
      "text/plain": [
       "           ID                          Name Sex  Age  Height  Weight  \\\n",
       "16799  105349             Jonas Elis Sandin   M   22   175.0    70.0   \n",
       "16802   40532  Jules Alexandre Girard-Bille   M   24   175.0    70.0   \n",
       "16812   83350     Duncan Brown \"Dunc\" Munro   M   23   173.0    86.0   \n",
       "16852   74134  George Herbert Leigh Mallory   M   37   175.0    70.0   \n",
       "16892  106776               Eduard Scherrer   M   33   175.0    70.0   \n",
       "\n",
       "                Team  NOC  Year  Season      City                 Sport  \\\n",
       "16799         Sweden  SWE  1924  Winter  Chamonix  Cross Country Skiing   \n",
       "16802    Switzerland  SUI  1924  Winter  Chamonix       Nordic Combined   \n",
       "16812         Canada  CAN  1924  Winter  Chamonix            Ice Hockey   \n",
       "16852  Great Britain  GBR  1924  Winter  Chamonix              Alpinism   \n",
       "16892  Switzerland-1  SUI  1924  Winter  Chamonix             Bobsleigh   \n",
       "\n",
       "                                          Event Medal  \n",
       "16799  Cross Country Skiing Men's 18 kilometres   NaN  \n",
       "16802          Nordic Combined Men's Individual   NaN  \n",
       "16812               Ice Hockey Men's Ice Hockey  Gold  \n",
       "16852                   Alpinism Mixed Alpinism  Gold  \n",
       "16892                 Bobsleigh Men's Four/Five  Gold  "
      ]
     },
     "execution_count": 27,
     "metadata": {},
     "output_type": "execute_result"
    }
   ],
   "source": [
    "print(\"Winter Olympics:\")\n",
    "winter.head()"
   ]
  },
  {
   "cell_type": "code",
   "execution_count": 28,
   "id": "67435be4-8966-419e-9976-6b2ca96ab018",
   "metadata": {},
   "outputs": [],
   "source": [
    "# make new binary medal column \n",
    "athletes['Received_Medal'] = athletes['Medal'].notna().astype(int)"
   ]
  },
  {
   "cell_type": "code",
   "execution_count": 29,
   "id": "7e42b653-6c01-433b-ab62-65eed6c6998a",
   "metadata": {},
   "outputs": [
    {
     "data": {
      "text/html": [
       "<div>\n",
       "<style scoped>\n",
       "    .dataframe tbody tr th:only-of-type {\n",
       "        vertical-align: middle;\n",
       "    }\n",
       "\n",
       "    .dataframe tbody tr th {\n",
       "        vertical-align: top;\n",
       "    }\n",
       "\n",
       "    .dataframe thead th {\n",
       "        text-align: right;\n",
       "    }\n",
       "</style>\n",
       "<table border=\"1\" class=\"dataframe\">\n",
       "  <thead>\n",
       "    <tr style=\"text-align: right;\">\n",
       "      <th></th>\n",
       "      <th>Year</th>\n",
       "      <th>Athletes</th>\n",
       "      <th>Male</th>\n",
       "      <th>Female</th>\n",
       "      <th>PropFemale</th>\n",
       "      <th>Summer</th>\n",
       "      <th>Winter</th>\n",
       "      <th>AvgHeight</th>\n",
       "      <th>AvgWeight</th>\n",
       "      <th>AvgAge</th>\n",
       "      <th>NOCMostMedals</th>\n",
       "      <th>Countries</th>\n",
       "      <th>SummerHostCity</th>\n",
       "      <th>WinterHostCity</th>\n",
       "    </tr>\n",
       "  </thead>\n",
       "  <tbody>\n",
       "    <tr>\n",
       "      <th>0</th>\n",
       "      <td>1896</td>\n",
       "      <td>176</td>\n",
       "      <td>176</td>\n",
       "      <td>NaN</td>\n",
       "      <td>NaN</td>\n",
       "      <td>176</td>\n",
       "      <td>0</td>\n",
       "      <td>174.73</td>\n",
       "      <td>70.18</td>\n",
       "      <td>23.76</td>\n",
       "      <td>GRE</td>\n",
       "      <td>12</td>\n",
       "      <td>Athina</td>\n",
       "      <td>NaN</td>\n",
       "    </tr>\n",
       "    <tr>\n",
       "      <th>1</th>\n",
       "      <td>1900</td>\n",
       "      <td>1220</td>\n",
       "      <td>1197</td>\n",
       "      <td>23.0</td>\n",
       "      <td>1.89</td>\n",
       "      <td>1220</td>\n",
       "      <td>0</td>\n",
       "      <td>175.10</td>\n",
       "      <td>70.19</td>\n",
       "      <td>26.98</td>\n",
       "      <td>FRA</td>\n",
       "      <td>31</td>\n",
       "      <td>Paris</td>\n",
       "      <td>NaN</td>\n",
       "    </tr>\n",
       "    <tr>\n",
       "      <th>2</th>\n",
       "      <td>1904</td>\n",
       "      <td>650</td>\n",
       "      <td>644</td>\n",
       "      <td>6.0</td>\n",
       "      <td>0.92</td>\n",
       "      <td>650</td>\n",
       "      <td>0</td>\n",
       "      <td>175.13</td>\n",
       "      <td>70.25</td>\n",
       "      <td>26.13</td>\n",
       "      <td>USA</td>\n",
       "      <td>15</td>\n",
       "      <td>St. Louis</td>\n",
       "      <td>NaN</td>\n",
       "    </tr>\n",
       "    <tr>\n",
       "      <th>3</th>\n",
       "      <td>1906</td>\n",
       "      <td>841</td>\n",
       "      <td>835</td>\n",
       "      <td>6.0</td>\n",
       "      <td>0.71</td>\n",
       "      <td>841</td>\n",
       "      <td>0</td>\n",
       "      <td>175.48</td>\n",
       "      <td>70.70</td>\n",
       "      <td>25.79</td>\n",
       "      <td>GRE</td>\n",
       "      <td>21</td>\n",
       "      <td>Athina</td>\n",
       "      <td>NaN</td>\n",
       "    </tr>\n",
       "    <tr>\n",
       "      <th>4</th>\n",
       "      <td>1908</td>\n",
       "      <td>2024</td>\n",
       "      <td>1980</td>\n",
       "      <td>44.0</td>\n",
       "      <td>2.17</td>\n",
       "      <td>2024</td>\n",
       "      <td>0</td>\n",
       "      <td>175.39</td>\n",
       "      <td>70.84</td>\n",
       "      <td>26.35</td>\n",
       "      <td>GBR</td>\n",
       "      <td>22</td>\n",
       "      <td>London</td>\n",
       "      <td>NaN</td>\n",
       "    </tr>\n",
       "  </tbody>\n",
       "</table>\n",
       "</div>"
      ],
      "text/plain": [
       "   Year  Athletes  Male  Female  PropFemale  Summer  Winter  AvgHeight  \\\n",
       "0  1896       176   176     NaN         NaN     176       0     174.73   \n",
       "1  1900      1220  1197    23.0        1.89    1220       0     175.10   \n",
       "2  1904       650   644     6.0        0.92     650       0     175.13   \n",
       "3  1906       841   835     6.0        0.71     841       0     175.48   \n",
       "4  1908      2024  1980    44.0        2.17    2024       0     175.39   \n",
       "\n",
       "   AvgWeight  AvgAge NOCMostMedals  Countries SummerHostCity WinterHostCity  \n",
       "0      70.18   23.76           GRE         12         Athina            NaN  \n",
       "1      70.19   26.98           FRA         31          Paris            NaN  \n",
       "2      70.25   26.13           USA         15      St. Louis            NaN  \n",
       "3      70.70   25.79           GRE         21         Athina            NaN  \n",
       "4      70.84   26.35           GBR         22         London            NaN  "
      ]
     },
     "execution_count": 29,
     "metadata": {},
     "output_type": "execute_result"
    }
   ],
   "source": [
    "# calculations: total participants, # of male, # of female, % of total that is female for each year\n",
    "unique_athletes = athletes.groupby('Year')['Name'].nunique().reset_index(name='Athletes')\n",
    "male_athletes = athletes[athletes['Sex'] == 'M'].groupby('Year')['Name'].nunique().reset_index(name='Male')\n",
    "female_athletes = athletes[athletes['Sex'] == 'F'].groupby('Year')['Name'].nunique().reset_index(name='Female')\n",
    "\n",
    "# yearly_stats is the new df \n",
    "yearly_stats = unique_athletes.merge(male_athletes, on='Year', how='left')\n",
    "yearly_stats = yearly_stats.merge(female_athletes, on='Year', how='left')\n",
    "\n",
    "# % of total that is female\n",
    "yearly_stats['PropFemale'] = (yearly_stats['Female'] / yearly_stats['Athletes']) * 100\n",
    "yearly_stats['PropFemale'] = np.round(yearly_stats['PropFemale'],2) # round to 2 decimal places \n",
    "\n",
    "# Calculate # summer athletes and # winter athletes for each year\n",
    "season_stats = athletes.groupby(['Year', 'Season'])['Name'].nunique().unstack('Season', fill_value=0).reset_index()\n",
    "\n",
    "# Calculate avg of demographics for each year\n",
    "athlete_stats = athletes.groupby('Year').agg(\n",
    "    AvgHeight=('Height', lambda x: np.round(np.mean(x), 2)),\n",
    "    AvgWeight=('Weight', lambda x: np.round(np.mean(x), 2)),\n",
    "    AvgAge=('Age', lambda x: np.round(np.mean(x), 2))\n",
    ").reset_index()\n",
    "\n",
    "country_medal_sums = athletes.groupby(['Year', 'NOC'])['Received_Medal'].sum().reset_index() # counts all 1s in binary medal column to get aggregate\n",
    "\n",
    "# Find country with most medals for each year\n",
    "country_most_medals = country_medal_sums.loc[country_medal_sums.groupby('Year')['Received_Medal'].idxmax()]\n",
    "country_most_medals.rename(columns={'NOC': 'NOCMostMedals'}, inplace=True)\n",
    "countries_participating = athletes.groupby('Year')['NOC'].nunique().reset_index(name='Countries')\n",
    "\n",
    "# add location of summer and winter games \n",
    "host_cities = athletes.groupby(['Year', 'Season'])['City'].first().unstack().reset_index()\n",
    "host_cities.columns = ['Year', 'SummerHostCity', 'WinterHostCity']\n",
    "\n",
    "# Merge all above statistics\n",
    "yearly_stats = yearly_stats.merge(season_stats, on='Year', how='left')\n",
    "yearly_stats = yearly_stats.merge(athlete_stats, on='Year', how='left')\n",
    "yearly_stats = yearly_stats.merge(country_most_medals, on='Year', how='left')\n",
    "yearly_stats = yearly_stats.merge(countries_participating, on='Year', how='left')\n",
    "yearly_stats = yearly_stats.merge(host_cities, on='Year', how='left')\n",
    "\n",
    "yearly_stats = yearly_stats.drop(('Received_Medal'), axis=1, inplace=False) # don't need this column\n",
    "yearly_stats.head()"
   ]
  },
  {
   "cell_type": "markdown",
   "id": "3db7bca4-fbdd-4f3e-93dc-6a552c586d97",
   "metadata": {},
   "source": [
    "**Observations**\n",
    "\n",
    "- There is data for an Olympic event in 1906. Turns out Greece hosted interim games, but is not considered official.\n",
    "- No female athletes in first games. Participation was 1.89% in 1900 compared with 45.02% in 2016. \n",
    "- No winter games until 1924. Summer and Winter games occurred within the same year until splitting into alternating pattern in 1994.\n",
    "- Number of countries participating has increased from 12 to 2017 since its beginning. \n",
    "- USA and URS seem to be the most consistent performers in terms of winning the largest # of medals. \n",
    "- Avg height and weight have not fluctuated much. No pattern is observed. \n",
    "- Avg age of athletes increased from 23 to 31 until falling again in 1936! Most athletes are about 26 years old at the time of competing in 2016."
   ]
  },
  {
   "cell_type": "code",
   "execution_count": 30,
   "id": "13ea0273-0e8e-41ee-8e27-49113173d89e",
   "metadata": {},
   "outputs": [
    {
     "data": {
      "text/plain": [
       "1936"
      ]
     },
     "execution_count": 30,
     "metadata": {},
     "output_type": "execute_result"
    }
   ],
   "source": [
    "# did average height change after the inclusion of basketball as a sport?\n",
    "\n",
    "# Find the first year basketball was introduced\n",
    "first_year_basketball = athletes.loc[athletes['Sport'].str.lower().eq('basketball'), 'Year'].min()\n",
    "first_year_basketball"
   ]
  },
  {
   "cell_type": "code",
   "execution_count": 31,
   "id": "8e7f39b3-9e98-4032-a653-0dc61c1d8998",
   "metadata": {},
   "outputs": [
    {
     "name": "stdout",
     "output_type": "stream",
     "text": [
      "P-value > alpha; fail to reject the null hypothesis. There is not enough evidence to suggest a significant change in average height before and after basketball was introduced in 1936 based on the given data..\n"
     ]
    }
   ],
   "source": [
    "from scipy.stats import ttest_ind\n",
    "\n",
    "heights_before_1936 = yearly_stats.loc[yearly_stats['Year'] < first_year_basketball, 'AvgHeight']\n",
    "heights_after_1936 = yearly_stats.loc[yearly_stats['Year'] >= first_year_basketball, 'AvgHeight']\n",
    "\n",
    "# Perform Two-Sample T-Test\n",
    "t_stat, p_value = ttest_ind(heights_before_1936, heights_after_1936, equal_var=False)\n",
    "\n",
    "# Significance Level\n",
    "alpha = 0.05\n",
    "\n",
    "# Results\n",
    "if p_value < alpha:\n",
    "    print(\"Reject the null hypothesis. There is evidence that the average height changed after 1936.\")\n",
    "else:\n",
    "    print(\"P-value > alpha; fail to reject the null hypothesis. There is not enough evidence to suggest a significant change in average height before and after basketball was introduced in 1936 based on the given data..\")\n"
   ]
  },
  {
   "cell_type": "markdown",
   "id": "6b9cf0d6-4781-4ce3-bf6a-056c8d24f9a3",
   "metadata": {},
   "source": [
    "## Historical Trends:\n",
    "\n",
    "Show trends in overall medal counts for specific countries over multiple Olympic editions.\n",
    "Identify periods of significant changes or dominance by certain countries."
   ]
  },
  {
   "cell_type": "code",
   "execution_count": 32,
   "id": "737816f2-6d75-405f-92b5-5f2900703de0",
   "metadata": {},
   "outputs": [
    {
     "data": {
      "image/png": "[encoded data removed]",
      "text/plain": [
       "<Figure size 1200x600 with 1 Axes>"
      ]
     },
     "metadata": {},
     "output_type": "display_data"
    }
   ],
   "source": [
    "# Filter data for Summer and Winter Olympics\n",
    "summer_winter_participants = yearly_stats[np.bitwise_or(yearly_stats['Summer'] > 0, yearly_stats['Winter'] > 0)]\n",
    "\n",
    "# make bar plot with alternating colors for Summer and Winter Olympics\n",
    "fig, ax = plt.subplots(figsize=(12, 6))\n",
    "\n",
    "bar_width = 0.4\n",
    "bar_positions_summer = summer_winter_participants['Year'] - bar_width / 2\n",
    "bar_positions_winter = summer_winter_participants['Year'] + bar_width / 2\n",
    "\n",
    "ax.bar(bar_positions_summer, summer_winter_participants['Summer'], bar_width, label='Summer Olympics', color='orange')\n",
    "ax.bar(bar_positions_winter, summer_winter_participants['Winter'], bar_width, label='Winter Olympics', color='blue')\n",
    "\n",
    "ax.set_title('Number of Participants in Summer and Winter Olympics')\n",
    "ax.set_xlabel('Year')\n",
    "ax.set_ylabel('Number of Participants')\n",
    "ax.legend()\n",
    "plt.xticks(range(1896, 2016, 4), rotation=45)\n",
    "\n",
    "plt.show()"
   ]
  },
  {
   "cell_type": "markdown",
   "id": "1f234eed-91c6-492f-9f98-a238e0aa5054",
   "metadata": {},
   "source": [
    "**Observations:** \n",
    "- The Olympics did not occur in 1916, 1940, and 1944 due to the start of WWI and WWII.\n",
    "- 28 countries boycotted the 1976 games in Montreal after the International Olympic Committee (IOC) refused to exclude New Zealand from the games. \n",
    "- The United States has sent athletes to every Olympic Games with the exception of the 1980 Summer Olympics, during which it led a boycott in protest of the Soviet Union's invasion of Afghanistan. The absence of countries due to this boycott is reflected in the sharp drop in 1980.\n",
    "- Both Summer and Winter games occurred each year until split into alternating years after 1992. "
   ]
  },
  {
   "cell_type": "markdown",
   "id": "27ba8df5-c013-47a9-bc45-d657d6db6707",
   "metadata": {},
   "source": [
    "### Medal Distribution:"
   ]
  },
  {
   "cell_type": "code",
   "execution_count": 33,
   "id": "fe86a303-8699-47e8-85ec-8bd5e5165727",
   "metadata": {},
   "outputs": [
    {
     "ename": "NameError",
     "evalue": "name 'total_medal_count_by_country' is not defined",
     "output_type": "error",
     "traceback": [
      "\u001b[0;31m---------------------------------------------------------------------------\u001b[0m",
      "\u001b[0;31mNameError\u001b[0m                                 Traceback (most recent call last)",
      "Cell \u001b[0;32mIn[33], line 2\u001b[0m\n\u001b[1;32m      1\u001b[0m \u001b[38;5;66;03m# Sort top 10 countries by total medal count in descending order\u001b[39;00m\n\u001b[0;32m----> 2\u001b[0m top_10_countries \u001b[38;5;241m=\u001b[39m total_medal_count_by_country\u001b[38;5;241m.\u001b[39mnlargest(\u001b[38;5;241m10\u001b[39m)\n\u001b[1;32m      3\u001b[0m top_10_data \u001b[38;5;241m=\u001b[39m year_2016_data[year_2016_data[\u001b[38;5;124m'\u001b[39m\u001b[38;5;124mNOC\u001b[39m\u001b[38;5;124m'\u001b[39m]\u001b[38;5;241m.\u001b[39misin(top_10_countries\u001b[38;5;241m.\u001b[39mindex)]\n\u001b[1;32m      5\u001b[0m top_10_medal_count \u001b[38;5;241m=\u001b[39m top_10_data\u001b[38;5;241m.\u001b[39mgroupby([\u001b[38;5;124m'\u001b[39m\u001b[38;5;124mNOC\u001b[39m\u001b[38;5;124m'\u001b[39m, \u001b[38;5;124m'\u001b[39m\u001b[38;5;124mMedal\u001b[39m\u001b[38;5;124m'\u001b[39m])\u001b[38;5;241m.\u001b[39msize()\u001b[38;5;241m.\u001b[39munstack(fill_value\u001b[38;5;241m=\u001b[39m\u001b[38;5;241m0\u001b[39m)\n",
      "\u001b[0;31mNameError\u001b[0m: name 'total_medal_count_by_country' is not defined"
     ]
    }
   ],
   "source": [
    "# Sort top 10 countries by total medal count in descending order\n",
    "top_10_countries = total_medal_count_by_country.nlargest(10)\n",
    "top_10_data = year_2016_data[year_2016_data['NOC'].isin(top_10_countries.index)]\n",
    "\n",
    "top_10_medal_count = top_10_data.groupby(['NOC', 'Medal']).size().unstack(fill_value=0)\n",
    "top_10_medal_count['Total'] = top_10_medal_count.sum(axis=1)\n",
    "\n",
    "# sort by highest gold count in descending order\n",
    "top_10_medal_count = top_10_medal_count.sort_values(by='Total', ascending=False)\n",
    "top_10_medal_count"
   ]
  },
  {
   "cell_type": "code",
   "execution_count": null,
   "id": "8ad21f1e-9d07-4723-83d5-7fb31e50cc4f",
   "metadata": {},
   "outputs": [],
   "source": [
    "\n",
    "# Filter data for the year 2016\n",
    "data_2016 = athletes[athletes['Year'] == 2016]\n",
    "\n",
    "# Filter data to include only rows with medals\n",
    "medal_data_2016 = data_2016[data_2016['Medal'] != 'No Medal']\n",
    "\n",
    "# Pivot the data to count the number of each medal type for each NOC\n",
    "medals_by_noc_2016 = medal_data_2016.pivot_table(index='NOC', columns='Medal', aggfunc='size', fill_value=0)\n",
    "\n",
    "# Calculate the total medal count for each NOC\n",
    "total_medals_by_noc_2016 = medals_by_noc_2016.sum(axis=1)\n",
    "\n",
    "# Get the top 10 NOC performers in 2016 based on total medal count\n",
    "top_10_nocs_2016 = total_medals_by_noc_2016.nlargest(10)\n",
    "\n",
    "# Select only the top 10 NOCs from the pivot table\n",
    "top_10_medals_by_noc_2016 = medals_by_noc_2016.loc[top_10_nocs_2016.index]\n",
    "\n",
    "# Normalize the data to get proportions\n",
    "top_10_medals_by_noc_norm_2016 = top_10_medals_by_noc_2016.div(top_10_medals_by_noc_2016.sum(axis=1), axis=0)\n",
    "\n",
    "# Plot the top 10 NOC performers in 2016 broken down by medal type proportions\n",
    "plt.figure(figsize=(12, 8))\n",
    "top_10_medals_by_noc_norm_2016.plot(kind='bar', stacked=True, colormap='viridis')\n",
    "plt.title('Top 10 NOC Performers in 2016 Broken Down by Medal Type')\n",
    "plt.xlabel('NOC')\n",
    "plt.ylabel('Proportion of Medals')\n",
    "plt.legend(title='Medal Type', bbox_to_anchor=(1, 1))\n",
    "plt.show()\n"
   ]
  },
  {
   "cell_type": "markdown",
   "id": "5f16d1d2-ddcc-4f09-b6ca-5e1a3d97e783",
   "metadata": {},
   "source": [
    "## Emerging Markets"
   ]
  },
  {
   "cell_type": "code",
   "execution_count": null,
   "id": "f88bfed8-3f90-4520-b627-814b2709b4aa",
   "metadata": {},
   "outputs": [],
   "source": [
    "# Filter data for countries with non-zero medals after the year 2000\n",
    "recent_medals_after_2000 = athletes[athletes['Year'] > 2000].groupby(['NOC', 'Sport'])['Received_Medal'].sum().reset_index()\n",
    "recent_medals_countries_after_2000 = recent_medals_after_2000[recent_medals_after_2000['Received_Medal'] > 0]['NOC']\n",
    "\n",
    "# Filter data for countries with zero medals before the year 2000\n",
    "zero_medals_before_2000 = athletes[athletes['Year'] <= 2000].groupby('NOC')['Received_Medal'].sum().reset_index()\n",
    "\n",
    "zero_medals_countries_before_2000 = zero_medals_before_2000[zero_medals_before_2000['Received_Medal'] == 0]['NOC']\n",
    "\n",
    "# Identify countries that started winning medals after 2000\n",
    "newly_winning_countries_after_2000 = pd.DataFrame(zero_medals_countries_before_2000[zero_medals_countries_before_2000.isin(recent_medals_countries_after_2000)])\n",
    "\n",
    "newly_winning_countries_after_2000\n"
   ]
  },
  {
   "cell_type": "code",
   "execution_count": null,
   "id": "65e236a0-73a9-4429-a21e-a8b4ed7ac701",
   "metadata": {},
   "outputs": [],
   "source": [
    "# Identify geographical clusters of emerging markets based on recent successes in sports.\n",
    "\n",
    "\n"
   ]
  },
  {
   "cell_type": "code",
   "execution_count": null,
   "id": "430da30f-6ce6-49ee-ae25-59e9f7975db0",
   "metadata": {},
   "outputs": [],
   "source": [
    "selected_noc = 'BRN'  # Can replace 'BRN' with any country code\n",
    "\n",
    "selected_noc_data = athletes[athletes['NOC'] == selected_noc]\n",
    "medal_count_by_year_sport_event = selected_noc_data.groupby(['Year','NOC', 'Medal', 'Sport', 'Sex', 'Name']).size().unstack(fill_value=0)\n",
    "\n",
    "# total medal count for each year\n",
    "total_medal_count_by_year_sport_event = medal_count_by_year_sport_event.sum(axis=1).reset_index(name='TotalMedalCount')\n",
    "\n",
    "total_medal_count_by_year_sport_event.sort_values(by='Year', ascending=True)"
   ]
  },
  {
   "cell_type": "code",
   "execution_count": null,
   "id": "c3f47b21-a532-44f0-9953-2fa696fe0bc3",
   "metadata": {},
   "outputs": [],
   "source": [
    "# Bahrain won a gold medal in 2016\n",
    "brn_gold_2016 = athletes[(athletes['NOC'] == 'BRN') & (athletes['Medal'] == 'Gold') & (athletes['Year'] == 2016)]\n",
    "\n",
    "# info about gold medalist\n",
    "for index, row in brn_gold_2016.iterrows():\n",
    "    print(f\"Year: {row['Year']}, Name: {row['Name']}, NOC: {row['NOC']}, Age: {row['Age']}, Sport: {row['Sport']}, Event: {row['Event']}, Sex: {row['Sex']}\")\n"
   ]
  },
  {
   "cell_type": "code",
   "execution_count": null,
   "id": "5d4d8933-3544-4285-ae10-742bff4d59e0",
   "metadata": {},
   "outputs": [],
   "source": [
    "# ALSO LOOK AT ETHIOPIA\n",
    "\n",
    "#Filter data for egypt and the last four Olympic Games\n",
    "# ethiopia_last_four_games = athletes[(athletes['NOC'] == 'EGY') & (athletes['Year'] >= 1950) & (athletes['Year'] <= 2016)]\n",
    "\n",
    "# Group by year and sport, count the number of medals each year for each sport\n",
    "ethiopia_medals_by_year_sport = ethiopia_last_four_games.groupby(['Year', 'Sport'])['Medal'].count().reset_index()\n",
    "\n",
    "# Create a bar plot\n",
    "plt.figure(figsize=(12, 8))\n",
    "\n",
    "# Iterate through unique sports and plot bars\n",
    "for sport in ethiopia_medals_by_year_sport['Sport'].unique():\n",
    "    sport_data = ethiopia_medals_by_year_sport[ethiopia_medals_by_year_sport['Sport'] == sport]\n",
    "    plt.bar(sport_data['Year'], sport_data['Medal'], label=sport)\n",
    "\n",
    "plt.title('Number of Medals Won by Egypt Each Year by Sport (Last Four Olympic Games)')\n",
    "plt.xlabel('Year')\n",
    "plt.ylabel('Number of Medals')\n",
    "\n",
    "# Show legend with only the sports on the graph\n",
    "handles, labels = plt.gca().get_legend_handles_labels()\n",
    "unique_labels = list(set(labels))\n",
    "unique_handles = [handles[labels.index(label)] for label in unique_labels]\n",
    "plt.legend(unique_handles, unique_labels, title='Sport', bbox_to_anchor=(1, 1))\n",
    "\n",
    "plt.show()\n"
   ]
  },
  {
   "cell_type": "markdown",
   "id": "78db5274-3be4-4579-baa8-9a6f1579ac44",
   "metadata": {},
   "source": [
    "this info can be useful for an apparel company for marketing purposes\n",
    "Companies involved in sports sponsorship and advertising may benefit from insights on popular sports, successful athletes, and the demographics of Olympic audiences. This information can help in strategic marketing and sponsorship decisions.\n",
    "Retailers selling sports-related merchandise can use insights to stock products related to popular sports and athletes, aligning with current market trends.\n",
    "Offer data-driven insights to companies involved in sports sponsorship and advertising, helping them make informed decisions on marketing strategies and sponsorships."
   ]
  },
  {
   "cell_type": "markdown",
   "id": "c2e9b6f5-44fe-4d11-bb65-2af949837ce5",
   "metadata": {},
   "source": [
    "### Gender and Sports:\n",
    "\n",
    "How has the participation of male and female athletes evolved over time?\n",
    "Are there specific sports where one gender dominates?"
   ]
  },
  {
   "cell_type": "code",
   "execution_count": null,
   "id": "8f25a5be-2b47-41f3-8868-ada556b4af93",
   "metadata": {},
   "outputs": [],
   "source": [
    "yearly_stats.head()"
   ]
  },
  {
   "cell_type": "markdown",
   "id": "f986dd40-8d0b-47c3-bee2-b7fe0c15c93a",
   "metadata": {},
   "source": [
    "Recognize countries with a low representation of young female athletes, offering potential market insights for the campaign."
   ]
  },
  {
   "cell_type": "markdown",
   "id": "7619f3e0-e1c4-4674-b79e-0032f7958e5d",
   "metadata": {},
   "source": [
    "client also wants to launch a campaign empowering girls and women\n",
    "identify successes in women's sports and emerging age groups worth investing in and magnifying \n",
    "can help to target more diverse consumers by age and gender "
   ]
  },
  {
   "cell_type": "code",
   "execution_count": null,
   "id": "e3f9a1eb-921d-4d00-b650-fe3ef020bd64",
   "metadata": {},
   "outputs": [],
   "source": [
    "young_female_medalists = athletes[(athletes['Medal'].notnull()) & (athletes['Sex'] == 'F') & (athletes['Age'] <= 25)]\n",
    "\n",
    "plt.figure(figsize=(8, 4))\n",
    "plt.hist(young_female_medalists['Age'], bins=10, color='hotpink', edgecolor='black')\n",
    "plt.title('Age Distribution of Young Female Medalists')\n",
    "plt.xlabel('Age')\n",
    "plt.ylabel('Number of Medalists')\n",
    "plt.grid(axis='y', alpha=0.75)\n",
    "plt.show()\n"
   ]
  },
  {
   "cell_type": "code",
   "execution_count": null,
   "id": "c60c4f7b-8bd0-4702-b4ab-7a7d3c4bfd9d",
   "metadata": {},
   "outputs": [],
   "source": [
    "young_female_athletes = athletes[(athletes['Sex'] == 'F') & (athletes['Age'] <= 25)]\n",
    "\n",
    "# Count number of young female athletes per country\n",
    "young_female_counts = young_female_athletes['NOC'].value_counts()\n",
    "\n",
    "#find bottom 10 countries based on participation\n",
    "bottom_countries = 15  \n",
    "bottom_countries_df = young_female_counts.tail(bottom_countries)\n",
    "\n",
    "plt.figure(figsize=(8, 4))\n",
    "bottom_countries_df.plot(kind='bar', color='hotpink')\n",
    "plt.title('Top 15 Countries with Lowest Representation of Young Female Athletes')\n",
    "plt.xlabel('Country (NOC)')\n",
    "plt.ylabel('Number of Young Female Athletes')\n",
    "plt.xticks(rotation=45, ha='right')  # Rotate x-axis labels for better readability\n",
    "plt.grid(axis='y', alpha=0.75)\n",
    "plt.show()\n"
   ]
  },
  {
   "cell_type": "code",
   "execution_count": null,
   "id": "347922b6-0e0a-4f75-8e7a-69f1efe6c131",
   "metadata": {},
   "outputs": [],
   "source": [
    "gender_counts = summer.groupby(['Year', 'Sex'])['Name'].nunique().reset_index(name='AthleteCount') #all M and F athletes per city per year\n",
    "gender_pivot = gender_counts.pivot_table(index=['Year'], columns='Sex', values='AthleteCount', fill_value=0).reset_index()\n",
    "\n",
    "# calculate proportions\n",
    "gender_pivot['Proportion_Male'] = gender_pivot['M'] / (gender_pivot['M'] + gender_pivot['F'])\n",
    "gender_pivot['Proportion_Female'] = gender_pivot['F'] / (gender_pivot['M'] + gender_pivot['F'])\n",
    "\n",
    "plt.figure(figsize=(5, 8))\n",
    "plt.barh(gender_pivot['Year'], gender_pivot['Proportion_Male'], label='Male', color='blue')\n",
    "plt.barh(gender_pivot['Year'], gender_pivot['Proportion_Female'], left=gender_pivot['Proportion_Male'], label='Female', color='hotpink')\n",
    "plt.title('Proportion of Male and Female Athletes at Summer Olympics (1896-2016) by Year')\n",
    "plt.xlabel('Proportion of Athletes')\n",
    "plt.ylabel('Year')\n",
    "plt.yticks(gender_pivot['Year'].unique())\n",
    "plt.legend()\n",
    "plt.show()"
   ]
  },
  {
   "cell_type": "code",
   "execution_count": null,
   "id": "ba1e64f0-4c28-4eb0-aca0-63bc5b08fd2d",
   "metadata": {},
   "outputs": [],
   "source": [
    "# A DIFFERENT VIEW - time series edition\n",
    "average_female_proportion_by_year = yearly_stats.groupby('Year')['PropFemale'].mean()\n",
    "\n",
    "# Calculate moving average with a specified window (in this case, 4 years)\n",
    "window_size = 4\n",
    "moving_average = average_female_proportion_by_year.rolling(window=window_size).mean()\n",
    "\n",
    "plt.figure(figsize=(12, 6))\n",
    "plt.plot(average_female_proportion_by_year, label='Proportion of Female Athletes')\n",
    "plt.plot(moving_average, label=f'Moving Average ({window_size}-Year Window)', color='red')\n",
    "plt.legend()\n",
    "plt.title('Trend in Proportion of Female Athletes Over the Years')\n",
    "plt.xlabel('Year')\n",
    "plt.ylabel('Proportion of Female Athletes (%)')  # Updated ylabel with percentage\n",
    "plt.xticks(range(1896, 2017, 4), rotation=45)\n",
    "plt.grid(True)\n",
    "\n",
    "# label first and last points with percentages\n",
    "first_point = average_female_proportion_by_year.iloc[1]\n",
    "last_point = average_female_proportion_by_year.iloc[-1]\n",
    "\n",
    "plt.annotate(f'{first_point:.2f}%', xy=(average_female_proportion_by_year.index[0], first_point), textcoords=\"offset points\", xytext=(0,5), ha='left')\n",
    "plt.annotate(f'{last_point:.2f}%', xy=(average_female_proportion_by_year.index[-1], last_point), textcoords=\"offset points\", xytext=(0,5), ha='center')\n",
    "\n",
    "plt.show()\n"
   ]
  },
  {
   "cell_type": "markdown",
   "id": "9ba34790-7ab7-4f98-8fc8-a243d240a2e3",
   "metadata": {},
   "source": [
    "moving avg: used to analyze data points by creating a series of averages of different subsets of the full data set. The purpose of using a moving average is to smooth out short-term fluctuations and highlight longer-term trends or cycles."
   ]
  },
  {
   "cell_type": "code",
   "execution_count": null,
   "id": "09c1d63d-862b-4f80-a241-b1ceb9a203cb",
   "metadata": {},
   "outputs": [],
   "source": [
    "# Find which year saw the largest increase in female participation by proportion \n",
    "\n",
    "#Create a mask for NaN values\n",
    "not_nan_mask = ~np.isnan(average_female_proportion_by_year)\n",
    "\n",
    "# Calculate differences between consecutive time points\n",
    "differences = np.diff(average_female_proportion_by_year[not_nan_mask])\n",
    "\n",
    "time_intervals = 4\n",
    "\n",
    "# find slopes by dividing differences by time intervals\n",
    "slopes = differences / time_intervals\n",
    "max_slope_index = np.argmax(np.abs(slopes[~np.isnan(slopes)]))\n",
    "\n",
    "max_slope_value = slopes[max_slope_index]\n",
    "\n",
    "print(f\"The biggest jump occurred between {average_female_proportion_by_year.index[not_nan_mask][max_slope_index]} and {average_female_proportion_by_year.index[not_nan_mask][max_slope_index + 1]}, with a slope of {max_slope_value:.4f}\")\n"
   ]
  },
  {
   "cell_type": "code",
   "execution_count": null,
   "id": "fff6c499-2023-45d1-a071-09fcf1ec38f5",
   "metadata": {},
   "outputs": [],
   "source": [
    "# were any new sports added in 1976 that influenced this growth?\n",
    "\n",
    "data_1972 = athletes[athletes['Year'] == 1972]\n",
    "data_1976 = athletes[athletes['Year'] == 1976]\n",
    "\n",
    "sports_1972 = set(data_1972['Event'])\n",
    "sports_1976 = set(data_1976['Event'])\n",
    "\n",
    "new_sports_1976 = sports_1976 - sports_1972\n",
    "\n",
    "new_sports_1976\n",
    "#women's bball, handball, and cross country skiing were new additions as well as Rowing and some other mixed gender sports"
   ]
  },
  {
   "cell_type": "code",
   "execution_count": null,
   "id": "be8f469f-65aa-493f-ac1f-76e26840bac9",
   "metadata": {},
   "outputs": [],
   "source": [
    "# use seaborn package \n",
    "\n",
    "female_medal_data = athletes[(athletes['Sex'] == 'F') & (athletes['Medal'].notnull())]\n",
    "sport_medal_counts = female_medal_data.groupby('Sport')['Medal'].count().reset_index(name='MedalCount')\n",
    "\n",
    "sorted_sports = sport_medal_counts.sort_values(by='MedalCount', ascending=False)\n",
    "\n",
    "top_10_sports = sorted_sports.head(10)\n",
    "\n",
    "plt.figure(figsize=(10, 6))\n",
    "sns.barplot(x='Sport', y='MedalCount', data=top_10_sports, palette='viridis')\n",
    "plt.title('Top 10 Sports for Females by Medal Count')\n",
    "plt.xlabel('Sport')\n",
    "plt.ylabel('Medal Count')\n",
    "plt.xticks(rotation=60)\n",
    "\n",
    "plt.show()\n"
   ]
  },
  {
   "cell_type": "code",
   "execution_count": null,
   "id": "ccb65d36-3624-4c24-9faa-0e468c19d647",
   "metadata": {},
   "outputs": [],
   "source": [
    "# female success since 2000\n",
    "female_data_since_2000 = athletes[(athletes['Sex'] == 'F') & (athletes['Year'] >= 2000)]\n",
    "\n",
    "medal_count_by_age_group = female_data_since_2000.groupby(['Age', 'Medal']).size().unstack(fill_value=0)\n",
    "\n",
    "medal_count_by_age_group.plot(kind='bar', stacked=True, figsize=(10, 6))\n",
    "plt.title('Medal Distribution by Age for Female Athletes (2000-2016)')\n",
    "plt.xlabel('Age')\n",
    "plt.ylabel('Number of Medals')\n",
    "plt.legend(title='Medal')\n",
    "plt.show()\n"
   ]
  },
  {
   "cell_type": "code",
   "execution_count": null,
   "id": "b021fa8d-a10d-4b81-9504-8000389ee58d",
   "metadata": {},
   "outputs": [],
   "source": [
    "# Finding top performing female athletes in 2016\n",
    "\n",
    "female_athletes_2016 = athletes[(athletes['Sex'] == 'F') & (athletes['Year'] == 2016)]\n",
    "\n",
    "athlete_medal_counts = female_athletes_2016.groupby(['Name', 'Age', 'Sport', 'NOC'])['Medal'].count()\n",
    "\n",
    "top_female_athletes = athlete_medal_counts.nlargest(5).reset_index(name='Medal Count')\n",
    "\n",
    "print(\"Top 5 performing female athletes in 2016:\")\n",
    "top_female_athletes\n"
   ]
  },
  {
   "cell_type": "code",
   "execution_count": null,
   "id": "679b88be-03d6-4eed-83c3-23f7d464937c",
   "metadata": {},
   "outputs": [],
   "source": [
    "# Youngest females to win medals in 2016\n",
    "female_medalists_2016 = athletes[(athletes['Sex'] == 'F') & (athletes['Medal'].notnull()) & (athletes['Year'] == 2016)]\n",
    "\n",
    "# Group data by athlete and count the number of medals for each\n",
    "female_athlete_medal_counts = female_medalists_2016.groupby(['Name', 'Age', 'NOC', 'Sport', 'Medal']).size().reset_index(name='Medal Count')\n",
    "\n",
    "# Sort the data by Medal Count in descending order and then by Age in ascending order\n",
    "sorted_female_athletes = female_athlete_medal_counts.sort_values(by=['Medal Count', 'Age'], ascending=[False, True])\n",
    "\n",
    "# Drop duplicates based on 'Name'\n",
    "unique_female_medalists = sorted_female_athletes.drop_duplicates(subset=['Name'], keep='first')\n",
    "\n",
    "# Select the top 10 youngest female athletes who won medals\n",
    "top_10_youngest_female_medalists = unique_female_medalists.nsmallest(10, 'Age')\n",
    "\n",
    "print(\"Top 10 youngest and unique female athletes who won medals in 2016:\")\n",
    "top_10_youngest_female_medalists\n"
   ]
  },
  {
   "cell_type": "code",
   "execution_count": null,
   "id": "dbba81ca-fd34-4d4a-98df-31403e956f79",
   "metadata": {},
   "outputs": [],
   "source": [
    "# Assuming df is your DataFrame with columns 'Sex', 'Medal', 'Sport', 'NOC', and 'Year'\n",
    "# Replace column names with the actual names in your dataset\n",
    "\n",
    "# Filter data for female athletes from Japan who won medals in table tennis\n",
    "japan_female_table_tennis_medalists = athletes[\n",
    "    (athletes['Sex'] == 'F') & \n",
    "    (athletes['Medal'].notnull()) & \n",
    "    (athletes['Sport'] == 'Table Tennis') & \n",
    "    (athletes['NOC'] == 'JPN')\n",
    "]\n",
    "\n",
    "# Find the first female athlete to win a medal in table tennis from Japan\n",
    "first_female_table_tennis_medalist = japan_female_table_tennis_medalists.sort_values(by='Year').iloc[0]\n",
    "\n",
    "print(\"First female athlete from Japan to win a medal in table tennis:\")\n",
    "first_female_table_tennis_medalist"
   ]
  },
  {
   "cell_type": "code",
   "execution_count": null,
   "id": "64c8a644-c7af-4637-9547-a5ffd59adfd8",
   "metadata": {},
   "outputs": [],
   "source": [
    "# Youngest Female Athlete to participate in 2016, no medal\n",
    "female_athletes_since_2000 = athletes[(athletes['Sex'] == 'F') & (athletes['Year'] == 2016)]\n",
    "\n",
    "youngest_female_athlete_since_2000 = female_athletes_since_2000.loc[female_athletes_since_2000['Age'].idxmin()]\n",
    "\n",
    "print(\"Youngest Female Athlete in 2016:\")\n",
    "youngest_female_athlete_since_2000[['Name', 'Age', 'NOC','Sport', 'Event', 'Year', 'Medal']]"
   ]
  },
  {
   "cell_type": "markdown",
   "id": "29747ad1-1342-4090-ba47-550416026640",
   "metadata": {},
   "source": [
    "young athletes are the future! many young girls look up to olympians and medalists their age and get inspired. a partnership with the NOC or sponsorship for specific team or athlete that represents this hope for bright girls and women would be a strategic move"
   ]
  },
  {
   "cell_type": "markdown",
   "id": "ac980f10-a060-4618-b141-2cef91641b58",
   "metadata": {},
   "source": [
    "### Evolution of Sports:\n",
    "\n",
    "How has the number of sports and events changed over different Olympic editions?\n",
    "Are there sports that were present in the early years but are no longer part of the Olympics?"
   ]
  },
  {
   "cell_type": "code",
   "execution_count": null,
   "id": "199f5411-1121-4f3c-b454-ddd1ff6ddd18",
   "metadata": {},
   "outputs": [],
   "source": [
    "# Create a DataFrame with all years from 1896 to 2016\n",
    "all_years = pd.DataFrame({'Year': range(1896, 2017, 4)})\n",
    "\n",
    "# Merge with the existing data to fill missing years with NaN values\n",
    "merged_df = pd.merge(all_years, athletes, on='Year', how='left')\n",
    "\n",
    "# Set 'Sport' and 'Event' columns to NaN for the years where data was not available\n",
    "merged_df[['Sport']] = merged_df[['Sport']].where(merged_df['Year'].isin(athletes['Year']))\n",
    "\n",
    "# Group data by 'Year' and count the number of unique sports and events each year\n",
    "sports_count_by_year = merged_df.groupby('Year')['Sport'].nunique()\n",
    "\n",
    "# Plotting the line chart for both sports and events\n",
    "plt.figure(figsize=(12, 6))\n",
    "plt.plot(sports_count_by_year, marker='o', label='Number of Sports', color='green', linestyle='-', linewidth=2)\n",
    "\n",
    "plt.title('Trend in Number of Sports Over the Years')\n",
    "plt.xlabel('Year')\n",
    "plt.ylabel('Count')\n",
    "plt.grid(True)\n",
    "plt.legend()\n",
    "\n",
    "plt.xticks(range(1896, 2017, 4), rotation=45)\n",
    "\n",
    "plt.show()\n"
   ]
  },
  {
   "cell_type": "code",
   "execution_count": null,
   "id": "ae98c4eb-1ac8-4da8-a3c1-d316ff6f59a8",
   "metadata": {},
   "outputs": [],
   "source": [
    "# sports added since 2000\n",
    "\n"
   ]
  },
  {
   "cell_type": "markdown",
   "id": "c9351c64-9035-4217-8521-627e8b5d1967",
   "metadata": {},
   "source": [
    "### Who's on top?\n",
    "Top Performing Athletes:\n",
    "\n",
    "Identify and list athletes with the highest medal counts."
   ]
  },
  {
   "cell_type": "code",
   "execution_count": null,
   "id": "a46c211c-18fb-48bf-932a-87c587dd3d9c",
   "metadata": {},
   "outputs": [],
   "source": [
    "data_2016 = athletes[athletes['Year'] == 2016]\n",
    "\n",
    "athlete_medal_count = data_2016.groupby(['NOC', 'Name'])['Received_Medal'].count().reset_index(name='TotalMedals')\n",
    "\n",
    "top_athletes_2016 = athlete_medal_count.sort_values(by='TotalMedals', ascending=False)\n",
    "\n",
    "top_athletes_2016.head(10)\n"
   ]
  },
  {
   "cell_type": "markdown",
   "id": "8720bb3f-1a7d-4b7c-9bc3-4e7108d0470b",
   "metadata": {},
   "source": [
    "### Host or not?\n",
    "knowing this can help with predicting where to target and plan before olympics occur. \n",
    "we can try to do predictive modeling here for 2024 paris (like how many medals we think france will have)"
   ]
  },
  {
   "cell_type": "code",
   "execution_count": null,
   "id": "bf33dab5-ed39-4d41-9b05-8f93c9653d7d",
   "metadata": {},
   "outputs": [],
   "source": [
    "def plot_top_performances(selected_country, top_n=10):\n",
    "\n",
    "    country_data = athletes[athletes['NOC'] == selected_country]\n",
    "    \n",
    "    medal_count_by_year_city = country_data.groupby(['Year', 'City', 'Medal']).size().unstack(fill_value=0)\n",
    "\n",
    "    total_medal_count_by_year_city = medal_count_by_year_city.sum(axis=1)\n",
    "\n",
    "    top_performances = total_medal_count_by_year_city.nlargest(top_n)\n",
    "\n",
    "    plt.figure(figsize=(12, 8))\n",
    "    medal_count_by_year_city.loc[top_performances.index].plot(kind='bar', stacked=False)\n",
    "\n",
    "    plt.title(f'Top {top_n} Performances by Overall Medal Count for {selected_country}')\n",
    "    plt.xlabel('Year and City')\n",
    "    plt.ylabel('Medal Count by Type')\n",
    "    plt.legend(title='Medal Type', bbox_to_anchor=(1.05, 1), loc='upper left')\n",
    "    plt.xticks(rotation=60)\n",
    "    plt.show()\n",
    "\n",
    "# Examples:\n",
    "plot_top_performances(selected_country='GRE', top_n=10)\n",
    "plot_top_performances(selected_country='USA', top_n=10)\n",
    "plot_top_performances(selected_country='CHN', top_n=10)\n",
    "plot_top_performances(selected_country='ESP', top_n=10)\n",
    "plot_top_performances(selected_country='CAN', top_n=10)\n",
    "plot_top_performances(selected_country='FRA', top_n=10)"
   ]
  },
  {
   "cell_type": "markdown",
   "id": "25cd5930-96dd-48ad-a5ce-1fdbfe66d87a",
   "metadata": {},
   "source": [
    "these graphs are sorted in descending order with largest # of medals won on the left. most gold won at LA and Atlanta. but most overall was in St. Louis, all in the USA we can assume that France might win the most medals this year based on the host city being Paris"
   ]
  },
  {
   "cell_type": "markdown",
   "id": "a1257eb3-fd19-443f-aff5-594ba18e1e2a",
   "metadata": {},
   "source": [
    "Time Series Analysis:\n",
    "\n",
    "data includes a temporal component, perform time series analysis to detect trends and seasonality.\n",
    "Use methods like moving averages, exponential smoothing, or autoregressive integrated moving average (ARIMA) to identify patterns over time.\n",
    "\n",
    "Statistical Analysis:\n",
    "\n",
    "Apply statistical methods to detect significant changes in your data.\n",
    "Conduct hypothesis testing to determine if there are statistically significant differences between different time periods or groups."
   ]
  },
  {
   "cell_type": "code",
   "execution_count": null,
   "id": "51d3421a-4a7a-4273-bdc1-13ccf9961bfa",
   "metadata": {},
   "outputs": [],
   "source": [
    "# Filter data for the selected country and sport (modify as needed)\n",
    "selected_country = 'USA'\n",
    "selected_sport = 'Swimming'\n",
    "filtered_data = athletes[(athletes['NOC'] == selected_country) & (athletes['Sport'] == selected_sport)]\n",
    "\n",
    "# Group data by 'Year' and count the total number of medals each year\n",
    "medal_count_by_year = filtered_data.groupby('Year')['Received_Medal'].count()\n",
    "\n",
    "# Calculate the moving average with a specified window (e.g., 4 years)\n",
    "window_size = 4\n",
    "moving_average = medal_count_by_year.rolling(window=window_size).mean()\n",
    "\n",
    "# Plotting the original time series and moving average\n",
    "plt.figure(figsize=(12, 6))\n",
    "plt.plot(medal_count_by_year, label=f'{selected_country} - {selected_sport} Medal Count')\n",
    "plt.plot(moving_average, label=f'Moving Average ({window_size}-Year Window)', color='red')\n",
    "plt.legend()\n",
    "plt.title(f'{selected_country} - {selected_sport} Medal Count and Moving Average')\n",
    "plt.xlabel('Year')\n",
    "plt.ylabel('Number of Medals')\n",
    "plt.grid(True)\n",
    "plt.show()\n"
   ]
  },
  {
   "cell_type": "markdown",
   "id": "9fa2e147-9141-4494-8efe-5070cbe10272",
   "metadata": {},
   "source": [
    "tracks average number of medals in specific sport over time "
   ]
  },
  {
   "cell_type": "code",
   "execution_count": null,
   "id": "b31f194d-8841-4ccd-b8c8-1d5dc972e828",
   "metadata": {},
   "outputs": [],
   "source": [
    "# Filter data for the selected country and sport (modify as needed)\n",
    "selected_country = 'BRN'\n",
    "selected_sport = 'Athletics'\n",
    "filtered_data = athletes[(athletes['NOC'] == selected_country) & (athletes['Sport'] == selected_sport)]\n",
    "\n",
    "# Group data by 'Year' and count the number of participants each year\n",
    "participants_count_by_year = filtered_data.groupby('Year')['Name'].nunique()\n",
    "\n",
    "# Calculate the moving average with a specified window (e.g., 4 years)\n",
    "window_size = 4\n",
    "moving_average = participants_count_by_year.rolling(window=window_size).mean()\n",
    "\n",
    "# Plotting the original time series and moving average\n",
    "plt.figure(figsize=(12, 6))\n",
    "plt.plot(participants_count_by_year, label=f'{selected_country} - {selected_sport} Participants Count')\n",
    "plt.plot(moving_average, label=f'Moving Average ({window_size}-Year Window)', color='red')\n",
    "plt.legend()\n",
    "plt.title(f'{selected_country} - {selected_sport} Participants Count and Moving Average')\n",
    "plt.xlabel('Year')\n",
    "plt.ylabel('Number of Participants')\n",
    "plt.grid(True)\n",
    "plt.show()\n"
   ]
  },
  {
   "cell_type": "markdown",
   "id": "19aa6959-9aee-46f2-be14-71f8f7846fa8",
   "metadata": {},
   "source": [
    "**Observations:**\n",
    "- BRN athlete count is moving up, coincides with recent wins\n"
   ]
  },
  {
   "cell_type": "markdown",
   "id": "fb5db948-6846-481f-9d80-9e4fc4719cc0",
   "metadata": {},
   "source": [
    "### Future angles, time permitting:\n",
    "Implement machine learning models for anomaly detection or clustering to identify unusual patterns in the data.\n",
    "Train models to predict future trends based on historical data.\n",
    "obtain more up-to-date or recent data to improve accuracy of trends, analysis, and predictions\n",
    "\n",
    "- more recent data can help in identifying up and coming athletes to partner with since there is a chance former athletes from 2016 have already retired\n",
    "- population data to gauge interest in products\n",
    "- GDP and other economic data to assess development and answer questions of correlation with olympics success\n",
    "\n",
    "time series forecasting "
   ]
  },
  {
   "cell_type": "code",
   "execution_count": null,
   "id": "a45a9cba-71c2-4ac6-a33b-7d657a808a66",
   "metadata": {},
   "outputs": [],
   "source": [
    "# predicting medal count "
   ]
  }
 ],
 "metadata": {
  "kernelspec": {
   "display_name": "Python 3 (ipykernel)",
   "language": "python",
   "name": "python3"
  },
  "language_info": {
   "codemirror_mode": {
    "name": "ipython",
    "version": 3
   },
   "file_extension": ".py",
   "mimetype": "text/x-python",
   "name": "python",
   "nbconvert_exporter": "python",
   "pygments_lexer": "ipython3",
   "version": "3.11.5"
  }
 },
 "nbformat": 4,
 "nbformat_minor": 5
}
